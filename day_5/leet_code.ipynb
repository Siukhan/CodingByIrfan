{
 "cells": [
  {
   "cell_type": "markdown",
   "metadata": {},
   "source": [
    "# LeetCode Interview Challange\n",
    "\n",
    "## Sheikh Irfan Ullah Khan\n",
    "\n",
    "### Contact Me: shirfan.math@gmail.com\n",
    "\n",
    "### Credit To: Azwer Alam (Kawish-Urdu)"
   ]
  },
  {
   "cell_type": "markdown",
   "metadata": {},
   "source": [
    "### 1. Simple List"
   ]
  },
  {
   "cell_type": "code",
   "execution_count": 9,
   "metadata": {},
   "outputs": [
    {
     "name": "stdout",
     "output_type": "stream",
     "text": [
      "[2, 7, 15, 11, 5, 8, 6, 1, 3]\n",
      "<class 'list'>\n",
      "15\n",
      "3 1\n",
      "2\n",
      "7\n",
      "15\n",
      "11\n",
      "5\n",
      "8\n",
      "6\n",
      "1\n",
      "3\n"
     ]
    }
   ],
   "source": [
    "nums = [2, 7, 15, 11, 5, 8, 6, 1, 3]\n",
    "print(nums)\n",
    "\n",
    "print(type(nums)) # Check type\n",
    "\n",
    "print(nums[2]) # Check an index\n",
    "\n",
    "print(nums[-1], nums[-2]) # Check more than one index\n",
    "\n",
    "for i in nums:\n",
    "    print(i)"
   ]
  },
  {
   "cell_type": "code",
   "execution_count": 14,
   "metadata": {},
   "outputs": [
    {
     "name": "stdout",
     "output_type": "stream",
     "text": [
      "[2, 7, 15, 11, 5, 8, 6, 1, 3]\n",
      "<class 'list'>\n",
      "[0, 1, 2, 3, 4, 5, 6, 7, 8]\n",
      "<class 'list'>\n"
     ]
    }
   ],
   "source": [
    "nums = [2, 7, 15, 11, 5, 8, 6, 1, 3]\n",
    "print(nums)\n",
    "print(type(nums))\n",
    "\n",
    "result = [index for index, num in enumerate(nums)]\n",
    "print(result)\n",
    "print(type(result))"
   ]
  },
  {
   "cell_type": "markdown",
   "metadata": {},
   "source": [
    "# Challange Two Sum - LeetCode\n",
    "\n",
    "1. Given an array of integers `nums` and an integer `target`, return indices of the two numbers such that they add up to target.\n",
    "\n",
    "2. You may assume that each input would have **exactly one solution**, and you may not use the same element twice.\n",
    "\n",
    "3. You can return the answer in any order."
   ]
  },
  {
   "cell_type": "code",
   "execution_count": 24,
   "metadata": {},
   "outputs": [
    {
     "name": "stdout",
     "output_type": "stream",
     "text": [
      "[2, 7, 15, 11, 5, 8, 6, 1, 3]\n",
      "[7, 8]\n"
     ]
    }
   ],
   "source": [
    "nums = [2, 7, 15, 11, 5, 8, 6, 1, 3]\n",
    "print(nums)\n",
    "\n",
    "Input = int(input('Enter a number: '))\n",
    "target = Input\n",
    "\n",
    "num_dict = {} # Create a dictionary\n",
    "# num_dict[2] = 0 # Add key-value\n",
    "\n",
    "for i, num in enumerate(nums):\n",
    "    complement = target - num\n",
    "\n",
    "    if complement in num_dict:\n",
    "        ret = [num_dict[complement], i]\n",
    "        print(ret)\n",
    "        break\n",
    "    num_dict[num] = i\n",
    "\n",
    "# print(num_dict)"
   ]
  }
 ],
 "metadata": {
  "kernelspec": {
   "display_name": "python_eda",
   "language": "python",
   "name": "python3"
  },
  "language_info": {
   "codemirror_mode": {
    "name": "ipython",
    "version": 3
   },
   "file_extension": ".py",
   "mimetype": "text/x-python",
   "name": "python",
   "nbconvert_exporter": "python",
   "pygments_lexer": "ipython3",
   "version": "3.12.0"
  }
 },
 "nbformat": 4,
 "nbformat_minor": 2
}
