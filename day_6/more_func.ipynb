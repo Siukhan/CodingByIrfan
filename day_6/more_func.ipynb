{
 "cells": [
  {
   "cell_type": "markdown",
   "metadata": {},
   "source": [
    "# Sort and Sorted Function in Python\n",
    "\n",
    "## Sheikh Irfan Ullah Khan\n",
    "\n",
    "### Contact Me: shirfan.math@gmail.com"
   ]
  },
  {
   "cell_type": "markdown",
   "metadata": {},
   "source": [
    "### Sort and Sorted"
   ]
  },
  {
   "cell_type": "code",
   "execution_count": 1,
   "metadata": {},
   "outputs": [
    {
     "name": "stdout",
     "output_type": "stream",
     "text": [
      "[9, 6, 10, 7, 1, 4, 3, 5, 2, 8]\n",
      "[1, 2, 3, 4, 5, 6, 7, 8, 9, 10]\n"
     ]
    }
   ],
   "source": [
    "list1 = [9, 6, 10, 7, 1, 4, 3, 5, 2, 8]\n",
    "print(list1)\n",
    "\n",
    "# sort list\n",
    "list1.sort()\n",
    "print(list1)"
   ]
  },
  {
   "cell_type": "code",
   "execution_count": 2,
   "metadata": {},
   "outputs": [
    {
     "name": "stdout",
     "output_type": "stream",
     "text": [
      "[1, 2, 3, 4, 5, 6, 7, 8, 9, 10]\n",
      "[1, 2, 3, 4, 5, 6, 7, 8, 9, 10]\n"
     ]
    }
   ],
   "source": [
    "# sorted list\n",
    "list2 = sorted(list1)\n",
    "print(list2)\n",
    "print(list1)"
   ]
  },
  {
   "cell_type": "code",
   "execution_count": 3,
   "metadata": {},
   "outputs": [
    {
     "name": "stdout",
     "output_type": "stream",
     "text": [
      "None\n"
     ]
    }
   ],
   "source": [
    "list3 = list1.sort()\n",
    "print(list3)"
   ]
  },
  {
   "cell_type": "code",
   "execution_count": 4,
   "metadata": {},
   "outputs": [
    {
     "name": "stdout",
     "output_type": "stream",
     "text": [
      "range(1, 21)\n",
      "[1, 2, 3, 4, 5, 6, 7, 8, 9, 10, 11, 12, 13, 14, 15, 16, 17, 18, 19, 20]\n"
     ]
    }
   ],
   "source": [
    "list4 = range(1, 21)\n",
    "print(list4)\n",
    "print(list(list4))"
   ]
  },
  {
   "cell_type": "markdown",
   "metadata": {},
   "source": [
    "### Write a program which make even number from 1 to 20 in descending order using list comprehension."
   ]
  },
  {
   "cell_type": "code",
   "execution_count": 5,
   "metadata": {},
   "outputs": [
    {
     "name": "stdout",
     "output_type": "stream",
     "text": [
      "[2, 4, 6, 8, 10, 12, 14, 16, 18, 20]\n",
      "[20, 18, 16, 14, 12, 10, 8, 6, 4, 2]\n"
     ]
    }
   ],
   "source": [
    "def is_even(x):\n",
    "    return x % 2 == 0\n",
    "\n",
    "even_numbers = [num for num in list4 if is_even(num)]\n",
    "print(even_numbers)\n",
    "\n",
    "even_numbers_descending = sorted(even_numbers, reverse = True)\n",
    "print(even_numbers_descending)"
   ]
  },
  {
   "cell_type": "markdown",
   "metadata": {},
   "source": [
    "### Write a program which make even number from 1 to 20 in descending order using filter and sorted"
   ]
  },
  {
   "cell_type": "code",
   "execution_count": 6,
   "metadata": {},
   "outputs": [
    {
     "name": "stdout",
     "output_type": "stream",
     "text": [
      "[20, 18, 16, 14, 12, 10, 8, 6, 4, 2]\n"
     ]
    }
   ],
   "source": [
    "list5 = range(1, 21)\n",
    "\n",
    "\n",
    "def is_even(x):\n",
    "    return x % 2 == 0\n",
    "\n",
    "\n",
    "even_numbers = sorted(filter(is_even, list5), reverse=True)\n",
    "print(even_numbers)"
   ]
  },
  {
   "cell_type": "markdown",
   "metadata": {},
   "source": [
    "### Write a program which make even number from 1 to 20 in reverse order using for loop"
   ]
  },
  {
   "cell_type": "code",
   "execution_count": 7,
   "metadata": {},
   "outputs": [
    {
     "name": "stdout",
     "output_type": "stream",
     "text": [
      "[20, 18, 16, 14, 12, 10, 8, 6, 4, 2]\n"
     ]
    }
   ],
   "source": [
    "even_numbers_reverse = []\n",
    "\n",
    "for i in range(20, 0, -2):\n",
    "    even_numbers_reverse.append(i)\n",
    "    \n",
    "print(even_numbers_reverse)"
   ]
  },
  {
   "cell_type": "code",
   "execution_count": 8,
   "metadata": {},
   "outputs": [
    {
     "name": "stdout",
     "output_type": "stream",
     "text": [
      "[20, 18, 16, 14, 12, 10, 8, 6, 4, 2]\n"
     ]
    }
   ],
   "source": [
    "list6 = range(20, 0, -2)\n",
    "\n",
    "even_numbers_reverse = []\n",
    "\n",
    "for i in list6:\n",
    "    even_numbers_reverse.append(i)\n",
    "    \n",
    "print(even_numbers_reverse)"
   ]
  }
 ],
 "metadata": {
  "kernelspec": {
   "display_name": "python_eda",
   "language": "python",
   "name": "python3"
  },
  "language_info": {
   "codemirror_mode": {
    "name": "ipython",
    "version": 3
   },
   "file_extension": ".py",
   "mimetype": "text/x-python",
   "name": "python",
   "nbconvert_exporter": "python",
   "pygments_lexer": "ipython3",
   "version": "3.12.0"
  }
 },
 "nbformat": 4,
 "nbformat_minor": 2
}
