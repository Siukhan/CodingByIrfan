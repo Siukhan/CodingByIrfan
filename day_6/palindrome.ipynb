{
 "cells": [
  {
   "cell_type": "markdown",
   "metadata": {},
   "source": [
    "# Palindrome Number\n",
    "\n",
    "## Sheikh Irfan Ullah Khan\n",
    "\n",
    "### Contact Me: shirfan.math@gmail.com"
   ]
  },
  {
   "cell_type": "markdown",
   "metadata": {},
   "source": [
    "Palindrome is a number that reads the same backward as forward."
   ]
  },
  {
   "cell_type": "code",
   "execution_count": 1,
   "metadata": {},
   "outputs": [
    {
     "name": "stdout",
     "output_type": "stream",
     "text": [
      "racecar\n"
     ]
    }
   ],
   "source": [
    "user_input = input(\"Enter a number or string: \")\n",
    "reversed = user_input[::-1] # :: Slice Operator\n",
    "print(reversed)"
   ]
  },
  {
   "cell_type": "code",
   "execution_count": 2,
   "metadata": {},
   "outputs": [
    {
     "name": "stdout",
     "output_type": "stream",
     "text": [
      "242\n",
      "True\n"
     ]
    }
   ],
   "source": [
    "user_input = input(\"Enter a number or string: \")\n",
    "\n",
    "reversed = user_input[::-1] # :: Slice Operator\n",
    "print(reversed)\n",
    "\n",
    "if reversed == user_input:\n",
    "    print(True)\n",
    "else:\n",
    "    print(False)"
   ]
  },
  {
   "cell_type": "markdown",
   "metadata": {},
   "source": [
    "# Slicing"
   ]
  },
  {
   "cell_type": "code",
   "execution_count": 3,
   "metadata": {},
   "outputs": [
    {
     "name": "stdout",
     "output_type": "stream",
     "text": [
      "[1, 2, 3, 4, 5, 6, 7, 8, 9, 10]\n",
      "[3, 4, 5, 6, 7, 8]\n"
     ]
    }
   ],
   "source": [
    "num = list(range(1, 11))\n",
    "print(num)\n",
    "\n",
    "# [1, 2, 3, 4, 5, 6, 7, 8, 9, 10]\n",
    "# [0, 1, 2, 3, 4, 5, 6, 7, 8, 9]\n",
    "# [-10, -9, -8, -7, -6, -5, -4, -3, -2, -1]\n",
    "\n",
    "# print(num[start:stop:steps])\n",
    "# print(num[::-2])\n",
    "# print(num[4])\n",
    "# print(num[-6])\n",
    "print(num[-8:-2: 1])\n",
    "# print(num[11:2])\n",
    "\n",
    "\n",
    "# num = list(range(1,11))\n",
    "# print(num)\n",
    "# print(num[0])\n",
    "# print(num[4::])\n",
    "# print(num[1::2])\n",
    "# print(num[0::2])"
   ]
  }
 ],
 "metadata": {
  "kernelspec": {
   "display_name": "python_eda",
   "language": "python",
   "name": "python3"
  },
  "language_info": {
   "codemirror_mode": {
    "name": "ipython",
    "version": 3
   },
   "file_extension": ".py",
   "mimetype": "text/x-python",
   "name": "python",
   "nbconvert_exporter": "python",
   "pygments_lexer": "ipython3",
   "version": "3.12.0"
  }
 },
 "nbformat": 4,
 "nbformat_minor": 2
}
