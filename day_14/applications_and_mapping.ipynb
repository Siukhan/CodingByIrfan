{
 "cells": [
  {
   "cell_type": "markdown",
   "metadata": {},
   "source": [
    "# Function Application and Mapping\n",
    "\n",
    "## Author: Sheikh Irfan Ullah Khan\n",
    "\n",
    "### Contact Me: shirfan.math@gmail.com"
   ]
  },
  {
   "cell_type": "markdown",
   "metadata": {},
   "source": [
    "#### 1. Apply lambda and Map functions"
   ]
  },
  {
   "cell_type": "code",
   "execution_count": 1,
   "metadata": {},
   "outputs": [],
   "source": [
    "# Import libraries\n",
    "import pandas as pd\n",
    "import numpy as np"
   ]
  },
  {
   "cell_type": "code",
   "execution_count": 2,
   "metadata": {},
   "outputs": [
    {
     "data": {
      "text/html": [
       "<div>\n",
       "<style scoped>\n",
       "    .dataframe tbody tr th:only-of-type {\n",
       "        vertical-align: middle;\n",
       "    }\n",
       "\n",
       "    .dataframe tbody tr th {\n",
       "        vertical-align: top;\n",
       "    }\n",
       "\n",
       "    .dataframe thead th {\n",
       "        text-align: right;\n",
       "    }\n",
       "</style>\n",
       "<table border=\"1\" class=\"dataframe\">\n",
       "  <thead>\n",
       "    <tr style=\"text-align: right;\">\n",
       "      <th></th>\n",
       "      <th>a</th>\n",
       "      <th>b</th>\n",
       "      <th>c</th>\n",
       "    </tr>\n",
       "  </thead>\n",
       "  <tbody>\n",
       "    <tr>\n",
       "      <th>one</th>\n",
       "      <td>-0.763779</td>\n",
       "      <td>-0.232512</td>\n",
       "      <td>0.714006</td>\n",
       "    </tr>\n",
       "    <tr>\n",
       "      <th>two</th>\n",
       "      <td>-0.688078</td>\n",
       "      <td>0.045959</td>\n",
       "      <td>-0.882205</td>\n",
       "    </tr>\n",
       "    <tr>\n",
       "      <th>three</th>\n",
       "      <td>0.259664</td>\n",
       "      <td>-0.243392</td>\n",
       "      <td>-0.870928</td>\n",
       "    </tr>\n",
       "    <tr>\n",
       "      <th>four</th>\n",
       "      <td>1.740944</td>\n",
       "      <td>0.085959</td>\n",
       "      <td>0.796224</td>\n",
       "    </tr>\n",
       "  </tbody>\n",
       "</table>\n",
       "</div>"
      ],
      "text/plain": [
       "              a         b         c\n",
       "one   -0.763779 -0.232512  0.714006\n",
       "two   -0.688078  0.045959 -0.882205\n",
       "three  0.259664 -0.243392 -0.870928\n",
       "four   1.740944  0.085959  0.796224"
      ]
     },
     "execution_count": 2,
     "metadata": {},
     "output_type": "execute_result"
    }
   ],
   "source": [
    "# Create a random DataFrame using numpy\n",
    "df = pd.DataFrame(np.random.randn(4, 3), columns=list('abc'),\n",
    "                  index = ['one', 'two', 'three', 'four'])\n",
    "df"
   ]
  },
  {
   "cell_type": "code",
   "execution_count": 3,
   "metadata": {},
   "outputs": [
    {
     "data": {
      "text/html": [
       "<div>\n",
       "<style scoped>\n",
       "    .dataframe tbody tr th:only-of-type {\n",
       "        vertical-align: middle;\n",
       "    }\n",
       "\n",
       "    .dataframe tbody tr th {\n",
       "        vertical-align: top;\n",
       "    }\n",
       "\n",
       "    .dataframe thead th {\n",
       "        text-align: right;\n",
       "    }\n",
       "</style>\n",
       "<table border=\"1\" class=\"dataframe\">\n",
       "  <thead>\n",
       "    <tr style=\"text-align: right;\">\n",
       "      <th></th>\n",
       "      <th>a</th>\n",
       "      <th>b</th>\n",
       "      <th>c</th>\n",
       "    </tr>\n",
       "  </thead>\n",
       "  <tbody>\n",
       "    <tr>\n",
       "      <th>one</th>\n",
       "      <td>0.763779</td>\n",
       "      <td>0.232512</td>\n",
       "      <td>0.714006</td>\n",
       "    </tr>\n",
       "    <tr>\n",
       "      <th>two</th>\n",
       "      <td>0.688078</td>\n",
       "      <td>0.045959</td>\n",
       "      <td>0.882205</td>\n",
       "    </tr>\n",
       "    <tr>\n",
       "      <th>three</th>\n",
       "      <td>0.259664</td>\n",
       "      <td>0.243392</td>\n",
       "      <td>0.870928</td>\n",
       "    </tr>\n",
       "    <tr>\n",
       "      <th>four</th>\n",
       "      <td>1.740944</td>\n",
       "      <td>0.085959</td>\n",
       "      <td>0.796224</td>\n",
       "    </tr>\n",
       "  </tbody>\n",
       "</table>\n",
       "</div>"
      ],
      "text/plain": [
       "              a         b         c\n",
       "one    0.763779  0.232512  0.714006\n",
       "two    0.688078  0.045959  0.882205\n",
       "three  0.259664  0.243392  0.870928\n",
       "four   1.740944  0.085959  0.796224"
      ]
     },
     "execution_count": 3,
     "metadata": {},
     "output_type": "execute_result"
    }
   ],
   "source": [
    "# Take the absolute of dataframe\n",
    "abs(df)"
   ]
  },
  {
   "cell_type": "code",
   "execution_count": 4,
   "metadata": {},
   "outputs": [
    {
     "name": "stdout",
     "output_type": "stream",
     "text": [
      "              a         b         c\n",
      "one   -0.763779 -0.232512  0.714006\n",
      "two   -0.688078  0.045959 -0.882205\n",
      "three  0.259664 -0.243392 -0.870928\n",
      "four   1.740944  0.085959  0.796224\n"
     ]
    },
    {
     "data": {
      "text/plain": [
       "one      0.714006\n",
       "two      0.045959\n",
       "three    0.259664\n",
       "four     1.740944\n",
       "dtype: float64"
      ]
     },
     "execution_count": 4,
     "metadata": {},
     "output_type": "execute_result"
    }
   ],
   "source": [
    "# Apply the lambda function to find max of each column\n",
    "s = lambda x: x.max()\n",
    "print(df)\n",
    "df.apply(s, axis = 'columns')"
   ]
  },
  {
   "cell_type": "code",
   "execution_count": 5,
   "metadata": {},
   "outputs": [
    {
     "name": "stdout",
     "output_type": "stream",
     "text": [
      "              a         b         c\n",
      "one   -0.763779 -0.232512  0.714006\n",
      "two   -0.688078  0.045959 -0.882205\n",
      "three  0.259664 -0.243392 -0.870928\n",
      "four   1.740944  0.085959  0.796224\n"
     ]
    },
    {
     "data": {
      "text/plain": [
       "a   -0.763779\n",
       "b   -0.243392\n",
       "c   -0.882205\n",
       "dtype: float64"
      ]
     },
     "execution_count": 5,
     "metadata": {},
     "output_type": "execute_result"
    }
   ],
   "source": [
    "# Apply the lambda function to find min of each column\n",
    "s = lambda x: x.min()\n",
    "print(df)\n",
    "df.apply(s)"
   ]
  },
  {
   "cell_type": "code",
   "execution_count": 6,
   "metadata": {},
   "outputs": [
    {
     "name": "stdout",
     "output_type": "stream",
     "text": [
      "              a         b         c\n",
      "one   -0.763779 -0.232512  0.714006\n",
      "two   -0.688078  0.045959 -0.882205\n",
      "three  0.259664 -0.243392 -0.870928\n",
      "four   1.740944  0.085959  0.796224\n"
     ]
    },
    {
     "data": {
      "text/plain": [
       "a    2.504723\n",
       "b    0.329351\n",
       "c    1.678428\n",
       "dtype: float64"
      ]
     },
     "execution_count": 6,
     "metadata": {},
     "output_type": "execute_result"
    }
   ],
   "source": [
    "# Apply the lambda function to find the difference between min and max of each column\n",
    "s = lambda x: x.max() - x.min()\n",
    "print(df)\n",
    "df.apply(s)"
   ]
  },
  {
   "cell_type": "code",
   "execution_count": 7,
   "metadata": {},
   "outputs": [
    {
     "name": "stdout",
     "output_type": "stream",
     "text": [
      "              a         b         c\n",
      "one   -0.763779 -0.232512  0.714006\n",
      "two   -0.688078  0.045959 -0.882205\n",
      "three  0.259664 -0.243392 -0.870928\n",
      "four   1.740944  0.085959  0.796224\n"
     ]
    },
    {
     "data": {
      "text/html": [
       "<div>\n",
       "<style scoped>\n",
       "    .dataframe tbody tr th:only-of-type {\n",
       "        vertical-align: middle;\n",
       "    }\n",
       "\n",
       "    .dataframe tbody tr th {\n",
       "        vertical-align: top;\n",
       "    }\n",
       "\n",
       "    .dataframe thead th {\n",
       "        text-align: right;\n",
       "    }\n",
       "</style>\n",
       "<table border=\"1\" class=\"dataframe\">\n",
       "  <thead>\n",
       "    <tr style=\"text-align: right;\">\n",
       "      <th></th>\n",
       "      <th>a</th>\n",
       "      <th>b</th>\n",
       "      <th>c</th>\n",
       "    </tr>\n",
       "  </thead>\n",
       "  <tbody>\n",
       "    <tr>\n",
       "      <th>min</th>\n",
       "      <td>-0.763779</td>\n",
       "      <td>-0.243392</td>\n",
       "      <td>-0.882205</td>\n",
       "    </tr>\n",
       "    <tr>\n",
       "      <th>max</th>\n",
       "      <td>1.740944</td>\n",
       "      <td>0.085959</td>\n",
       "      <td>0.796224</td>\n",
       "    </tr>\n",
       "    <tr>\n",
       "      <th>mean</th>\n",
       "      <td>0.137188</td>\n",
       "      <td>-0.085997</td>\n",
       "      <td>-0.060726</td>\n",
       "    </tr>\n",
       "  </tbody>\n",
       "</table>\n",
       "</div>"
      ],
      "text/plain": [
       "             a         b         c\n",
       "min  -0.763779 -0.243392 -0.882205\n",
       "max   1.740944  0.085959  0.796224\n",
       "mean  0.137188 -0.085997 -0.060726"
      ]
     },
     "execution_count": 7,
     "metadata": {},
     "output_type": "execute_result"
    }
   ],
   "source": [
    "# Defien a function to return the min max and mean\n",
    "def s(x):\n",
    "    return pd.Series([x.min(), x.max(), x.mean()], index = ['min', 'max', 'mean'])\n",
    "print(df)\n",
    "df.apply(s)"
   ]
  },
  {
   "cell_type": "code",
   "execution_count": 8,
   "metadata": {},
   "outputs": [
    {
     "data": {
      "text/html": [
       "<div>\n",
       "<style scoped>\n",
       "    .dataframe tbody tr th:only-of-type {\n",
       "        vertical-align: middle;\n",
       "    }\n",
       "\n",
       "    .dataframe tbody tr th {\n",
       "        vertical-align: top;\n",
       "    }\n",
       "\n",
       "    .dataframe thead th {\n",
       "        text-align: right;\n",
       "    }\n",
       "</style>\n",
       "<table border=\"1\" class=\"dataframe\">\n",
       "  <thead>\n",
       "    <tr style=\"text-align: right;\">\n",
       "      <th></th>\n",
       "      <th>a</th>\n",
       "      <th>b</th>\n",
       "      <th>c</th>\n",
       "    </tr>\n",
       "  </thead>\n",
       "  <tbody>\n",
       "    <tr>\n",
       "      <th>one</th>\n",
       "      <td>-0.764</td>\n",
       "      <td>-0.233</td>\n",
       "      <td>0.714</td>\n",
       "    </tr>\n",
       "    <tr>\n",
       "      <th>two</th>\n",
       "      <td>-0.688</td>\n",
       "      <td>0.046</td>\n",
       "      <td>-0.882</td>\n",
       "    </tr>\n",
       "    <tr>\n",
       "      <th>three</th>\n",
       "      <td>0.260</td>\n",
       "      <td>-0.243</td>\n",
       "      <td>-0.871</td>\n",
       "    </tr>\n",
       "    <tr>\n",
       "      <th>four</th>\n",
       "      <td>1.741</td>\n",
       "      <td>0.086</td>\n",
       "      <td>0.796</td>\n",
       "    </tr>\n",
       "  </tbody>\n",
       "</table>\n",
       "</div>"
      ],
      "text/plain": [
       "            a       b       c\n",
       "one    -0.764  -0.233   0.714\n",
       "two    -0.688   0.046  -0.882\n",
       "three   0.260  -0.243  -0.871\n",
       "four    1.741   0.086   0.796"
      ]
     },
     "execution_count": 8,
     "metadata": {},
     "output_type": "execute_result"
    }
   ],
   "source": [
    "# Apply the map function to the dataframe\n",
    "s = lambda x: '%.3f' % x\n",
    "df.map(s)"
   ]
  }
 ],
 "metadata": {
  "kernelspec": {
   "display_name": "python_eda",
   "language": "python",
   "name": "python3"
  },
  "language_info": {
   "codemirror_mode": {
    "name": "ipython",
    "version": 3
   },
   "file_extension": ".py",
   "mimetype": "text/x-python",
   "name": "python",
   "nbconvert_exporter": "python",
   "pygments_lexer": "ipython3",
   "version": "3.12.0"
  }
 },
 "nbformat": 4,
 "nbformat_minor": 2
}
