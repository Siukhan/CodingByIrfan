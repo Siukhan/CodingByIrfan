{
 "cells": [
  {
   "cell_type": "markdown",
   "metadata": {},
   "source": [
    "# Prime and Composite Number in Python\n",
    "\n",
    "## Sheikh Irfan Ullah Khan\n",
    "\n",
    "### Contact Me: shirfan.math@gmail.com"
   ]
  },
  {
   "cell_type": "markdown",
   "metadata": {},
   "source": [
    "Factors of a number can be found out using the `factor` function in `math` module.\n",
    "\n",
    "Prime factors of a number are those that are only divisible by 1 and themselves.\n",
    "For example, the prime factors of 15 are 1, 3 and 5.\n",
    "\n",
    "Prime factorization of a number can be done using the `primefac` function in `primefac` module."
   ]
  },
  {
   "cell_type": "markdown",
   "metadata": {},
   "source": [
    "### 1. Factors of a number"
   ]
  },
  {
   "cell_type": "code",
   "execution_count": 1,
   "metadata": {},
   "outputs": [
    {
     "name": "stdout",
     "output_type": "stream",
     "text": [
      "1\n",
      "2\n",
      "4\n",
      "5\n",
      "10\n",
      "20\n"
     ]
    }
   ],
   "source": [
    "# find the factor of 20\n",
    "def find_factor(n):\n",
    "    for i in range(1, n+1):\n",
    "        if n%i == 0:\n",
    "            print(i)\n",
    "\n",
    "find_factor(20)"
   ]
  },
  {
   "cell_type": "markdown",
   "metadata": {},
   "source": [
    "### 2. Prime factors of a number"
   ]
  },
  {
   "cell_type": "code",
   "execution_count": 2,
   "metadata": {},
   "outputs": [
    {
     "name": "stdout",
     "output_type": "stream",
     "text": [
      "False\n"
     ]
    }
   ],
   "source": [
    "num = 25\n",
    "\n",
    "def is_prime(num):\n",
    "    for i in range(2, num):\n",
    "        if num % i == 0:\n",
    "            return False\n",
    "    return True\n",
    "\n",
    "print(is_prime(num))"
   ]
  },
  {
   "cell_type": "markdown",
   "metadata": {},
   "source": [
    "#### Calculate the list after calculating its nearest square"
   ]
  },
  {
   "cell_type": "code",
   "execution_count": 3,
   "metadata": {},
   "outputs": [
    {
     "name": "stdout",
     "output_type": "stream",
     "text": [
      "[2, 3, 4, 5]\n",
      "[2, 3, 4, 5]\n",
      "[2, 3, 4, 5]\n",
      "[2, 3, 4, 5]\n"
     ]
    }
   ],
   "source": [
    "num1 = 25\n",
    "\n",
    "def is_prime(num1):\n",
    "    if num1 < 2:\n",
    "        return False\n",
    "    for i in range(2, 5 + 1):\n",
    "        print(list(range(2, 5 + 1)))\n",
    "\n",
    "is_prime(num1)"
   ]
  },
  {
   "cell_type": "code",
   "execution_count": 4,
   "metadata": {},
   "outputs": [
    {
     "name": "stdout",
     "output_type": "stream",
     "text": [
      "25 is a composite number\n"
     ]
    },
    {
     "data": {
      "text/plain": [
       "False"
      ]
     },
     "execution_count": 4,
     "metadata": {},
     "output_type": "execute_result"
    }
   ],
   "source": [
    "num2 = 25\n",
    "\n",
    "def is_prime(num2):\n",
    "    if num2 < 2:\n",
    "        return False\n",
    "    for i in range(2, 5 + 1):\n",
    "        if num2 % i == 0:\n",
    "            print(f\"{num2} is a composite number\")\n",
    "            return False\n",
    "    print(f\"{num2} is a prime number\")\n",
    "    return True\n",
    "\n",
    "is_prime(num2)"
   ]
  },
  {
   "cell_type": "markdown",
   "metadata": {},
   "source": [
    "#### Automate the process of finding the list of nearest square root"
   ]
  },
  {
   "cell_type": "code",
   "execution_count": 5,
   "metadata": {},
   "outputs": [
    {
     "name": "stdout",
     "output_type": "stream",
     "text": [
      "30 is a composite number\n"
     ]
    },
    {
     "data": {
      "text/plain": [
       "False"
      ]
     },
     "execution_count": 5,
     "metadata": {},
     "output_type": "execute_result"
    }
   ],
   "source": [
    "num3 = 30\n",
    "\n",
    "def is_prime(num3):\n",
    "    if num3 < 2:\n",
    "        return False\n",
    "    for i in range(2, int(num3 ** 0.5) + 1):\n",
    "        if num3 % i == 0:\n",
    "            print(f\"{num3} is a composite number\")\n",
    "            return False\n",
    "    print(f\"{num3} is a prime number\")\n",
    "    return True\n",
    "\n",
    "is_prime(num3)"
   ]
  },
  {
   "cell_type": "markdown",
   "metadata": {},
   "source": [
    "#### Take input from user"
   ]
  },
  {
   "cell_type": "code",
   "execution_count": 6,
   "metadata": {},
   "outputs": [
    {
     "name": "stdout",
     "output_type": "stream",
     "text": [
      "7 is a prime number\n"
     ]
    },
    {
     "data": {
      "text/plain": [
       "True"
      ]
     },
     "execution_count": 6,
     "metadata": {},
     "output_type": "execute_result"
    }
   ],
   "source": [
    "num4 = int(input(\"Enter a number: \"))\n",
    "\n",
    "def is_prime(num4):\n",
    "    if num4 < 2:\n",
    "        return False\n",
    "    for i in range(2, int(num4 ** 0.5) + 1):\n",
    "        if num4 % i == 0:\n",
    "            print(f\"{num4} is a composite number\")\n",
    "            return False\n",
    "    print(f\"{num4} is a prime number\")\n",
    "    return True\n",
    "\n",
    "is_prime(num4)"
   ]
  }
 ],
 "metadata": {
  "kernelspec": {
   "display_name": "python_eda",
   "language": "python",
   "name": "python3"
  },
  "language_info": {
   "codemirror_mode": {
    "name": "ipython",
    "version": 3
   },
   "file_extension": ".py",
   "mimetype": "text/x-python",
   "name": "python",
   "nbconvert_exporter": "python",
   "pygments_lexer": "ipython3",
   "version": "3.12.0"
  }
 },
 "nbformat": 4,
 "nbformat_minor": 2
}
