{
 "cells": [
  {
   "cell_type": "markdown",
   "metadata": {},
   "source": [
    "# Factorizable Algebraic Expressions\n",
    "\n",
    "## Sheikh Irfan Ullah Khan\n",
    "\n",
    "### Contact Me: shirfan.math@gmail.com"
   ]
  },
  {
   "cell_type": "markdown",
   "metadata": {},
   "source": [
    "#### Challange: Create a python script that randomly generates an algebraic expression, such as 2x + 6. The expression should be factorizable; for example, 2(x + 3)."
   ]
  },
  {
   "cell_type": "markdown",
   "metadata": {},
   "source": [
    "### Generate Random Numbers"
   ]
  },
  {
   "cell_type": "code",
   "execution_count": 1,
   "metadata": {},
   "outputs": [
    {
     "name": "stdout",
     "output_type": "stream",
     "text": [
      "3 5\n"
     ]
    }
   ],
   "source": [
    "import random\n",
    "a = random.randint(2, 5)\n",
    "b = random.randint(2, 7)\n",
    "print(a, b)"
   ]
  },
  {
   "cell_type": "markdown",
   "metadata": {},
   "source": [
    "### Generate the Expression"
   ]
  },
  {
   "cell_type": "code",
   "execution_count": 2,
   "metadata": {},
   "outputs": [
    {
     "name": "stdout",
     "output_type": "stream",
     "text": [
      "4x + 24\n"
     ]
    },
    {
     "data": {
      "text/plain": [
       "'4x + 24'"
      ]
     },
     "execution_count": 2,
     "metadata": {},
     "output_type": "execute_result"
    }
   ],
   "source": [
    "import random\n",
    "def my_func():\n",
    "    a = random.randint(2, 5)\n",
    "    b = random.randint(2, 7)\n",
    "    b = b * a\n",
    "\n",
    "    result = f\"{a}x + {b}\"\n",
    "    print(result)\n",
    "    return result\n",
    "my_func()\n"
   ]
  },
  {
   "cell_type": "markdown",
   "metadata": {},
   "source": [
    "### Factorize the Expression"
   ]
  },
  {
   "cell_type": "code",
   "execution_count": 3,
   "metadata": {},
   "outputs": [
    {
     "name": "stdout",
     "output_type": "stream",
     "text": [
      "4x + 8\n",
      "4(x + 2)\n"
     ]
    },
    {
     "data": {
      "text/plain": [
       "('4x + 8', '4(x + 2)')"
      ]
     },
     "execution_count": 3,
     "metadata": {},
     "output_type": "execute_result"
    }
   ],
   "source": [
    "import random\n",
    "def expression():\n",
    "    a = random.randint(2, 5)\n",
    "    b = random.randint(2, 7)\n",
    "    b = b * a\n",
    "\n",
    "    final = f\"{a}x + {b}\"\n",
    "    factorized = f\"{a}(x + {b // a})\"\n",
    "    print(final)\n",
    "    print(factorized)\n",
    "    return final, factorized\n",
    "\n",
    "expression()"
   ]
  },
  {
   "cell_type": "markdown",
   "metadata": {},
   "source": [
    "### Take Input from User"
   ]
  },
  {
   "cell_type": "code",
   "execution_count": 4,
   "metadata": {},
   "outputs": [
    {
     "name": "stdout",
     "output_type": "stream",
     "text": [
      "5x + 10\n",
      "Correct\n"
     ]
    }
   ],
   "source": [
    "import random\n",
    "def expression():\n",
    "    a = random.randint(2, 5)\n",
    "    b = random.randint(2, 7)\n",
    "    b = b * a\n",
    "\n",
    "    final = f\"{a}x + {b}\"\n",
    "    factorized = f\"{a}(x + {b // a})\"\n",
    "    print(final)\n",
    "    # print(factorized)\n",
    "    return final, factorized\n",
    "\n",
    "final, factorized = expression() # Unpacking of a tuple\n",
    "user_input = input(\"Enter the factorized expression: \")\n",
    "if user_input == factorized:\n",
    "    print(\"Correct\")\n",
    "else:\n",
    "    print(\"Incorrect\")"
   ]
  }
 ],
 "metadata": {
  "kernelspec": {
   "display_name": "python_eda",
   "language": "python",
   "name": "python3"
  },
  "language_info": {
   "codemirror_mode": {
    "name": "ipython",
    "version": 3
   },
   "file_extension": ".py",
   "mimetype": "text/x-python",
   "name": "python",
   "nbconvert_exporter": "python",
   "pygments_lexer": "ipython3",
   "version": "3.12.0"
  }
 },
 "nbformat": 4,
 "nbformat_minor": 2
}
