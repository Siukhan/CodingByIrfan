{
 "cells": [
  {
   "cell_type": "markdown",
   "metadata": {},
   "source": [
    "# Arithmetic Operators in Python\n",
    "\n",
    "## Author: Sheikh Irfan Ullah Khan\n",
    "### Contact Me: shirfan.math@gmail.com\n",
    "\n",
    "## Arithmetic Operators\n",
    "- `+` - addition\n",
    "- `-` - subtraction\n",
    "- `*` - multiplication\n",
    "- `/` - division\n",
    "- `//` - floor division\n",
    "- `%` - modulus\n",
    "- `**` - exponential"
   ]
  },
  {
   "cell_type": "code",
   "execution_count": 3,
   "metadata": {},
   "outputs": [
    {
     "name": "stdout",
     "output_type": "stream",
     "text": [
      "<class 'str'>\n",
      "Good Morning Irfan\n"
     ]
    }
   ],
   "source": [
    "name = input(\"Enter your name: \")\n",
    "print(type(name))\n",
    "print(\"Good Morning \" + name)"
   ]
  },
  {
   "cell_type": "code",
   "execution_count": 5,
   "metadata": {},
   "outputs": [
    {
     "name": "stdout",
     "output_type": "stream",
     "text": [
      "The sum of two numbers is:  5\n"
     ]
    }
   ],
   "source": [
    "num1 = input(\"Enter first number: \")\n",
    "num2 = input(\"Enter second number: \")\n",
    "\n",
    "sum = int(num1) + int(num2)\n",
    "print(\"The sum of two numbers is: \", sum)"
   ]
  },
  {
   "cell_type": "code",
   "execution_count": 4,
   "metadata": {},
   "outputs": [
    {
     "name": "stdout",
     "output_type": "stream",
     "text": [
      "The sum of two numbers is:  5\n"
     ]
    }
   ],
   "source": [
    "num1 = int(input(\"Enter first number: \"))\n",
    "num2 = int(input(\"Enter second number: \"))\n",
    "\n",
    "sum = num1 + num2\n",
    "print(\"The sum of two numbers is: \", sum)"
   ]
  },
  {
   "cell_type": "markdown",
   "metadata": {},
   "source": [
    "## Arithmetic Operators"
   ]
  },
  {
   "cell_type": "code",
   "execution_count": 8,
   "metadata": {},
   "outputs": [
    {
     "name": "stdout",
     "output_type": "stream",
     "text": [
      "7\n",
      "3\n",
      "-3\n",
      "10\n",
      "2.5\n",
      "2\n",
      "1\n",
      "25\n"
     ]
    }
   ],
   "source": [
    "a = 5\n",
    "b = 2\n",
    "print(a + b)\n",
    "print(a - b)\n",
    "print(b - a)\n",
    "print(a * b)\n",
    "print(a / b)\n",
    "print(a // b)\n",
    "print(a % b)\n",
    "print(a ** b)"
   ]
  },
  {
   "cell_type": "markdown",
   "metadata": {},
   "source": [
    "## Mini Project"
   ]
  },
  {
   "cell_type": "code",
   "execution_count": 15,
   "metadata": {},
   "outputs": [
    {
     "name": "stdout",
     "output_type": "stream",
     "text": [
      "1235 × 0 = 0\n",
      "1235 × 1 = 1235\n",
      "1235 × 2 = 2470\n",
      "1235 × 3 = 3705\n",
      "1235 × 4 = 4940\n",
      "1235 × 5 = 6175\n",
      "1235 × 6 = 7410\n",
      "1235 × 7 = 8645\n",
      "1235 × 8 = 9880\n",
      "1235 × 9 = 11115\n",
      "1235 × 10 = 12350\n",
      "1235 × 11 = 13585\n",
      "1235 × 12 = 14820\n",
      "1235 × 13 = 16055\n",
      "1235 × 14 = 17290\n",
      "1235 × 15 = 18525\n",
      "1235 × 16 = 19760\n",
      "1235 × 17 = 20995\n",
      "1235 × 18 = 22230\n",
      "1235 × 19 = 23465\n",
      "1235 × 20 = 24700\n"
     ]
    }
   ],
   "source": [
    "num = int(input(\"Enter a number: \"))\n",
    "\n",
    "for i in range(21):\n",
    "    print(num, \"×\", i, \"=\", num * i)\n",
    "    i += 1"
   ]
  }
 ],
 "metadata": {
  "kernelspec": {
   "display_name": "python_eda",
   "language": "python",
   "name": "python3"
  },
  "language_info": {
   "codemirror_mode": {
    "name": "ipython",
    "version": 3
   },
   "file_extension": ".py",
   "mimetype": "text/x-python",
   "name": "python",
   "nbconvert_exporter": "python",
   "pygments_lexer": "ipython3",
   "version": "3.12.0"
  }
 },
 "nbformat": 4,
 "nbformat_minor": 2
}
