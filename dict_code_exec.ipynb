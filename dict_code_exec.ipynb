{
 "cells": [
  {
   "cell_type": "markdown",
   "metadata": {},
   "source": [
    "# Dictionary and Code Execution\n",
    "\n",
    "## Sheikh Irfan Ullah Khan\n",
    "\n",
    "### Contact Me: shirfan.math@gmail.com"
   ]
  },
  {
   "cell_type": "markdown",
   "metadata": {},
   "source": [
    "### 1. Code Execution"
   ]
  },
  {
   "cell_type": "code",
   "execution_count": null,
   "metadata": {},
   "outputs": [],
   "source": [
    "nums = [2, 7, 15, 11, 5, 8, 6, 1, 3]\n",
    "Input = int(input('Enter a number: '))\n",
    "\n",
    "# num_dict = {2: 0, 7: 1, 15: 2, 11: 3, 5: 4, 8: 5, 6: 6, 1: 7, 3: 8}\n",
    "num_dict = {}\n",
    "# print(num_dict)\n",
    "for i, num in enumerate(nums): # enumerate() run the list one by one\n",
    "    complement = Input - num\n",
    "    print(complement)\n",
    "    # print (num_dict)\n",
    "    if complement in num_dict:\n",
    "        # print(num)\n",
    "        # print([num_dict[complement]])\n",
    "        ret = [num_dict[complement], i]\n",
    "        print(ret)\n",
    "        break\n",
    "    num_dict[num] = i\n",
    "    print(num_dict)\n",
    "# print(num_dict[7])\n"
   ]
  },
  {
   "cell_type": "markdown",
   "metadata": {},
   "source": [
    "### 2. Some useful functions"
   ]
  },
  {
   "cell_type": "code",
   "execution_count": 4,
   "metadata": {},
   "outputs": [
    {
     "name": "stdout",
     "output_type": "stream",
     "text": [
      "{2: 0, 7: 1, 15: 2}\n",
      "\n",
      "dict_keys([2, 7, 15])\n",
      "\n",
      "dict_values([0, 1, 2])\n",
      "\n",
      "dict_items([(2, 0), (7, 1), (15, 2)])\n",
      "\n",
      "0 1 2\n"
     ]
    }
   ],
   "source": [
    "test_dict = {2: 0, 7: 1, 15: 2} # test_dict is a pair of key and value\n",
    "print(test_dict)\n",
    "print()\n",
    "\n",
    "# These are heavily use functions\n",
    "print(test_dict.keys())\n",
    "print()\n",
    "print(test_dict.values())\n",
    "print()\n",
    "print(test_dict.items())\n",
    "print()\n",
    "print(test_dict[2], test_dict[7], test_dict[15])"
   ]
  }
 ],
 "metadata": {
  "kernelspec": {
   "display_name": "python_eda",
   "language": "python",
   "name": "python3"
  },
  "language_info": {
   "codemirror_mode": {
    "name": "ipython",
    "version": 3
   },
   "file_extension": ".py",
   "mimetype": "text/x-python",
   "name": "python",
   "nbconvert_exporter": "python",
   "pygments_lexer": "ipython3",
   "version": "3.12.0"
  }
 },
 "nbformat": 4,
 "nbformat_minor": 2
}
