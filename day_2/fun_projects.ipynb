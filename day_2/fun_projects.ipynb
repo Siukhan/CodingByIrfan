{
 "cells": [
  {
   "cell_type": "markdown",
   "metadata": {},
   "source": [
    "# Fun Projects in Python\n",
    "\n",
    "## Author: Sheikh Irfan Ullah Khan\n",
    "### Contact Me: shirfan.math@gmail.com"
   ]
  },
  {
   "cell_type": "markdown",
   "metadata": {},
   "source": [
    "### Write a program that takes a number as input and displays its multiplication with 5."
   ]
  },
  {
   "cell_type": "code",
   "execution_count": 1,
   "metadata": {},
   "outputs": [
    {
     "name": "stdout",
     "output_type": "stream",
     "text": [
      "Product of 2 and 5 is 10\n"
     ]
    }
   ],
   "source": [
    "num1 = int(input(\"Enter a number: \"))\n",
    "num2 = num1 * 5\n",
    "print(f\"Product of {num1} and 5 is {num2}\")"
   ]
  },
  {
   "cell_type": "markdown",
   "metadata": {},
   "source": [
    "## Write a program that takes a number as input and displays its square"
   ]
  },
  {
   "cell_type": "code",
   "execution_count": 2,
   "metadata": {},
   "outputs": [
    {
     "name": "stdout",
     "output_type": "stream",
     "text": [
      "5 raise to the power 2 is 25\n"
     ]
    }
   ],
   "source": [
    "num1 = int(input(\"Enter a number: \"))\n",
    "num2 = num1 ** 2\n",
    "print(f\"{num1} raise to the power 2 is {num2}\")"
   ]
  },
  {
   "cell_type": "markdown",
   "metadata": {},
   "source": [
    "## write a program that takes 2 numbers as input and display their power"
   ]
  },
  {
   "cell_type": "code",
   "execution_count": 3,
   "metadata": {},
   "outputs": [
    {
     "name": "stdout",
     "output_type": "stream",
     "text": [
      "3 raised to the power 4 is 81\n"
     ]
    }
   ],
   "source": [
    "num1 = int(input(\"Enter a number: \"))\n",
    "num2 = int(input(\"Enter second number: \"))\n",
    "power = num1 ** num2\n",
    "print(f'{num1} raised to the power {num2} is {power}')"
   ]
  },
  {
   "cell_type": "markdown",
   "metadata": {},
   "source": [
    "## Write a program that takes a number as input and displays its square root"
   ]
  },
  {
   "cell_type": "code",
   "execution_count": 4,
   "metadata": {},
   "outputs": [
    {
     "name": "stdout",
     "output_type": "stream",
     "text": [
      "<class 'float'>\n",
      "The square root of  49.00000 is 7.00000\n"
     ]
    }
   ],
   "source": [
    "num3 = int(input('Enter a number: '))\n",
    "sqrt = num3 ** 0.5\n",
    "print(type(sqrt))\n",
    "print(f'The square root of {num3: .5f} is {sqrt:.5f}')"
   ]
  },
  {
   "cell_type": "markdown",
   "metadata": {},
   "source": [
    "## write a program that takes a number as input and displays its square root using math module"
   ]
  },
  {
   "cell_type": "code",
   "execution_count": 5,
   "metadata": {},
   "outputs": [
    {
     "name": "stdout",
     "output_type": "stream",
     "text": [
      "The square root of  64.00000 is 8.00000\n"
     ]
    }
   ],
   "source": [
    "import math\n",
    "num4 = int(input('Enter a number: '))\n",
    "\n",
    "sqrt2 = math.sqrt(num4)\n",
    "print(f'The square root of {num4: .5f} is {sqrt2:.5f}')"
   ]
  }
 ],
 "metadata": {
  "kernelspec": {
   "display_name": "python_eda",
   "language": "python",
   "name": "python3"
  },
  "language_info": {
   "codemirror_mode": {
    "name": "ipython",
    "version": 3
   },
   "file_extension": ".py",
   "mimetype": "text/x-python",
   "name": "python",
   "nbconvert_exporter": "python",
   "pygments_lexer": "ipython3",
   "version": "3.12.0"
  }
 },
 "nbformat": 4,
 "nbformat_minor": 2
}
