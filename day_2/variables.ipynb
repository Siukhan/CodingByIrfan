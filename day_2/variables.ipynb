{
 "cells": [
  {
   "cell_type": "markdown",
   "metadata": {},
   "source": [
    "# Day 2 - Variables\n",
    "\n",
    "## Author: Sheikh Irfan Ullah Khan\n",
    "### Credit: Azwer Alam (Kawish-Urdu)"
   ]
  },
  {
   "cell_type": "markdown",
   "metadata": {},
   "source": [
    "**`Variables`**\n",
    "\n",
    "> `Variables` are containers for storing data values. A variable is created the moment you first assign a value to it.\n",
    "> \n",
    "> Is a symbolic name that we can use to refer to the value.\n",
    "> \n",
    "> It allows programmers to store and manipulate information within a program.\n",
    "> \n",
    "> In python, you do not need to define a variable before using it, and do not need to explicitly declare the type of a variable.\n",
    "> + The type is inferred from the value typed.\n",
    "\n",
    "Generally, variable is defined as \n",
    "            `<name> <assignment operator => <value>`"
   ]
  },
  {
   "cell_type": "markdown",
   "metadata": {},
   "source": [
    "### Rules for naming variables\n",
    "\n",
    "- Variable names can only contain alpha-numeric characters and underscores.\n",
    "- Variable names cannot start with numbers.\n",
    "- Variable names are case-sensitive.\n",
    "- Variable names should not be a reserved keyword.\n",
    "- No space is allowed in a variable name.\n",
    "\n",
    "There are some valid and invalid variables names.\n",
    "\n",
    "**`Valid Names`**\n",
    "-  `names` \n",
    "-  `name1`\n",
    "-  `_name` \n",
    "-  `_my_name` \n",
    "-  `NAME` \n",
    "-  `Name `\n",
    "-  `nAme`\n",
    "\n",
    "**`Invalid Names`**\n",
    "- `1name`\n",
    "- `name@`\n",
    "- `1name`\n",
    "- `my name`\n",
    "- `my@name`\n",
    "- `True`\n",
    "\n",
    "**`Reserved Keywords in Python`**\n",
    "- `and`\n",
    "- `as`\n",
    "- `assert`\n",
    "- `break`\n",
    "- `class`\n",
    "- `continue`\n",
    "- `def`\n",
    "- `del`\n",
    "- `elif`\n",
    "- `else`\n",
    "- `except`\n",
    "- `finally`\n",
    "- `for`\n",
    "- `from`\n",
    "- `global`\n",
    "- `if`\n",
    "- `import`\n",
    "- `in`\n",
    "- `is`\n",
    "- `lambda`\n",
    "- `nonlocal`\n",
    "- `not`\n",
    "- `or`\n",
    "- `pass`\n",
    "- `raise`\n",
    "- `return`\n",
    "- `try`\n",
    "- `while`\n",
    "- `with`\n",
    "- `yield`"
   ]
  },
  {
   "cell_type": "markdown",
   "metadata": {},
   "source": [
    "The poem composed by Azwer Alam serves as an illustrative example to demonstrate the significance of utilizing variables in Python programming."
   ]
  },
  {
   "cell_type": "code",
   "execution_count": 1,
   "metadata": {},
   "outputs": [
    {
     "name": "stdout",
     "output_type": "stream",
     "text": [
      "There are seven colours in the light; one of them is blue.\n",
      "Many parrots are blue, but there is no crow that is blue.\n",
      "There is no hippo that is blue, but there many fish are blue.\n",
      "There are seven colours in the light; one of them is blue.\n",
      "There are no cows that are blue, but there are macaws that are blue.\n",
      "My shirt is blue, but I have no shoes that are blue.\n",
      "There is no horse that is blue, but there are stories that have horses that are blue.\n"
     ]
    }
   ],
   "source": [
    "print('There are seven colours in the light; one of them is blue.')\n",
    "\n",
    "print('Many parrots are blue, but there is no crow that is blue.')\n",
    "\n",
    "print('There is no hippo that is blue, but there many fish are blue.')\n",
    "\n",
    "print('There are seven colours in the light; one of them is blue.')\n",
    "\n",
    "print('There are no cows that are blue, but there are macaws that are blue.')\n",
    "\n",
    "print('My shirt is blue, but I have no shoes that are blue.')\n",
    "\n",
    "print('There is no horse that is blue, but there are stories that have horses that are blue.')"
   ]
  },
  {
   "cell_type": "markdown",
   "metadata": {},
   "source": [
    "### Observations\n",
    "\n",
    "When working with code, it is important to write `clean`, `maintainable`, and `efficient programs`. One aspect of writing good code is managing the number of lines your code contains. While there is no fixed rule for how many lines of code are considered large, as a general guideline, if a section of code becomes `lengthy and repetitive`, it can be a good idea to use variables to store output instead of hard coding it.\n",
    "\n",
    "Using variables to store output has several advantages:\n",
    "\n",
    "**`Readability:`** Code that uses variables to store output is often more readable and easier to understand than code with hard-coded values. When variables are used, the purpose and meaning of the output become clear from the variable name, making it easier for other developers (including yourself) to comprehend the code later on.\n",
    "\n",
    "**`Maintainability:`** By using variables, you can make changes to the output in a single place. If the output needs to be modified or updated, you only need to change the value assigned to the variable, rather than searching for every occurrence of the hard-coded value throughout the codebase. This reduces the chances of introducing bugs and makes maintenance tasks more efficient.\n",
    "\n",
    "**`Reusability:`** Storing output in variables promotes reusability. If the same output is required in multiple places within your codebase, you can simply reuse the variable instead of duplicating the hard-coded value. This not only saves lines of code but also ensures consistency and reduces the risk of errors caused by inconsistencies.\n",
    "\n",
    "**`Flexibility:`** Variables provide flexibility in handling dynamic or changing data. If the output value needs to be calculated or derived based on certain conditions or user input, using variables allows you to perform the necessary computations or transformations easily. Hard-coded values, on the other hand, lack this flexibility and may not adapt well to changing requirements.\n",
    "\n",
    "To implement this approach, you can follow these steps:\n",
    "\n",
    "> Identify the sections of your code where the output is hard-coded and seems to be repetitive or lengthy.\n",
    "\n",
    "> Determine the purpose and meaning of the output. Give it a clear and descriptive name that reflects its purpose.\n",
    "\n",
    "> Declare a variable with an appropriate data type to hold the output value. Choose a name that reflects the purpose of the variable.\n",
    "\n",
    "> Assign the output value to the variable using an assignment statement.\n",
    "\n",
    "> Replace all instances of the hard-coded value with the variable name in the relevant sections of code.\n",
    "\n",
    "By following these steps, you can effectively use variables to store output instead of hard-coding it, resulting in cleaner, more maintainable, and reusable code. Remember to choose meaningful variable names and ensure that the variables are properly initialized and updated as needed throughout your code."
   ]
  },
  {
   "cell_type": "code",
   "execution_count": 5,
   "metadata": {},
   "outputs": [
    {
     "name": "stdout",
     "output_type": "stream",
     "text": [
      "There are seven colours in the light; one of them is blue .\n",
      "Many parrots are blue, but there is no crow that is blue.\n",
      "There is no hippo that is blue, but there many fish are blue.\n",
      "There are seven colours in the light; one of them is blue.\n",
      "There are no cows that are blue, but there are macaws that are blue.\n",
      "My shirt is blue, but I have no shoes that are blue.\n",
      "There is no horse that is blue, but there are stories that have horses that are blue.\n"
     ]
    }
   ],
   "source": [
    "color = \"blue\"\n",
    "\n",
    "print(\"There are seven colours in the light; one of them is \" + color + \" .\")\n",
    "\n",
    "print(\"Many parrots are \" + color + \", but there is no crow that is \" + color + \".\")\n",
    "\n",
    "print(\"There is no hippo that is \" + color + \", but there many fish are \" + color + \".\")\n",
    "\n",
    "print(\"There are seven colours in the light; one of them is \" + color + \".\")\n",
    "\n",
    "print(\"There are no cows that are \" + color + \", but there are macaws that are \" + color + \".\")\n",
    "\n",
    "print(\"My shirt is \" + color + \", but I have no shoes that are \" + color + \".\")\n",
    "\n",
    "print(\"There is no horse that is \" + color + \", but there are stories that have horses that are \" + color + \".\")"
   ]
  },
  {
   "cell_type": "markdown",
   "metadata": {},
   "source": [
    "---"
   ]
  }
 ],
 "metadata": {
  "kernelspec": {
   "display_name": "python_eda",
   "language": "python",
   "name": "python3"
  },
  "language_info": {
   "codemirror_mode": {
    "name": "ipython",
    "version": 3
   },
   "file_extension": ".py",
   "mimetype": "text/x-python",
   "name": "python",
   "nbconvert_exporter": "python",
   "pygments_lexer": "ipython3",
   "version": "3.12.0"
  }
 },
 "nbformat": 4,
 "nbformat_minor": 2
}
