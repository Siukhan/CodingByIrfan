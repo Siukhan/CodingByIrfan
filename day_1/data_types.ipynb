{
 "cells": [
  {
   "cell_type": "markdown",
   "metadata": {},
   "source": [
    "# Data Types in Python"
   ]
  },
  {
   "cell_type": "markdown",
   "metadata": {},
   "source": [
    "![Workflow](./workflow.drawio.png)"
   ]
  },
  {
   "cell_type": "markdown",
   "metadata": {},
   "source": [
    "\n",
    "`Data types` are used to categorize and represent different kinds of data that can be manipulated by the program. Python provides a range of built-in data types, each with its own characteristics and uses. Here are some of the commonly used data types in Python:\n",
    "\n",
    "**`Numeric:`**\n",
    "\n",
    "-   `Integer:` Represents integer values, such as 1, 2, -3, etc.\n",
    "-   `Float:` Represents floating-point values, such as 3.14, -2.5, etc.\n",
    "-   `Complex Number:` Represents complex numbers in the form of a + bj, where a and  b are floats and j is the imaginary unit.\n",
    "\n",
    "**`Dictionary:`** \n",
    "-   `Dict:` Represents a collection of key-value pairs enclosed in curly braces ({}) or created using the dict() constructor. Dictionaries are mutable and provide fast access to values based on their keys.\n",
    "  \n",
    "**`Boolean:`**\n",
    "\n",
    "-   `Bool:` Represents a boolean value, which can be either True or False. Boolean values are often used for conditional statements and logical operations.\n",
    "  \n",
    "**`Set:`**\n",
    "\n",
    " - `Set:` Represents an unordered collection of unique elements enclosed in curly braces ({}) or created using the set() constructor. Sets do not allow duplicate values.\n",
    " - `frozenset:` Similar to sets, but they are immutable and cannot be modified after creation.\n",
    "\n",
    "**`Sequence Types:`**\n",
    "\n",
    "- `String:` Represents a string of characters, such as \"Hello, World!\" Strings are immutable, meaning they cannot be changed once created.\n",
    "- `List:` Represents an ordered collection of items enclosed in square brackets ([]). Lists can contain elements of different data types, and they are mutable, allowing for modification and reordering of elements.\n",
    "- `Tuple:` Similar to lists, but enclosed in parentheses (()). Tuples are immutable, meaning they cannot be modified after creation.\n",
    "\n",
    "\n",
    "\n",
    "**`None:`** \n",
    "-   `None:` Represents a special type indicating the absenceof a value. It is often used to denote a null or empty value.\n",
    "  \n",
    "Python also provides several built-in functions and methods to convert data between different types. For example, you can use the int() function to convert a string to an integer, str() to convert a value to a string, and so on. Here, we will discuss some important data types which are frequently used in Python."
   ]
  },
  {
   "cell_type": "markdown",
   "metadata": {},
   "source": [
    "### 1. String"
   ]
  },
  {
   "cell_type": "code",
   "execution_count": 3,
   "metadata": {},
   "outputs": [
    {
     "name": "stdout",
     "output_type": "stream",
     "text": [
      "Sheikh Irfan\n",
      "<class 'str'>\n"
     ]
    }
   ],
   "source": [
    "dt1 = \"Sheikh Irfan\"\n",
    "print(dt1)\n",
    "print(type(dt1))"
   ]
  },
  {
   "cell_type": "markdown",
   "metadata": {},
   "source": [
    "### 2. Integer"
   ]
  },
  {
   "cell_type": "code",
   "execution_count": 4,
   "metadata": {},
   "outputs": [
    {
     "name": "stdout",
     "output_type": "stream",
     "text": [
      "24\n",
      "<class 'int'>\n"
     ]
    }
   ],
   "source": [
    "dt2 = 24\n",
    "print(dt2)\n",
    "print(type(dt2))"
   ]
  },
  {
   "cell_type": "markdown",
   "metadata": {},
   "source": [
    "### 3. Float"
   ]
  },
  {
   "cell_type": "code",
   "execution_count": 5,
   "metadata": {},
   "outputs": [
    {
     "name": "stdout",
     "output_type": "stream",
     "text": [
      "2.4\n",
      "<class 'float'>\n"
     ]
    }
   ],
   "source": [
    "dt3 = 2.4\n",
    "print(dt3)\n",
    "print(type(dt3))"
   ]
  },
  {
   "cell_type": "markdown",
   "metadata": {},
   "source": [
    "### 4. List"
   ]
  },
  {
   "cell_type": "code",
   "execution_count": 6,
   "metadata": {},
   "outputs": [
    {
     "name": "stdout",
     "output_type": "stream",
     "text": [
      "[1, 2, 3, 4, 5]\n",
      "<class 'list'>\n"
     ]
    }
   ],
   "source": [
    "dt4 = [1, 2, 3, 4, 5]\n",
    "print(dt4)\n",
    "print(type(dt4))"
   ]
  },
  {
   "cell_type": "markdown",
   "metadata": {},
   "source": [
    "### 5. Tuple"
   ]
  },
  {
   "cell_type": "code",
   "execution_count": 4,
   "metadata": {},
   "outputs": [
    {
     "name": "stdout",
     "output_type": "stream",
     "text": [
      "(1, 2, 3, 4, 5)\n",
      "<class 'tuple'>\n"
     ]
    }
   ],
   "source": [
    "dt5 = (1, 2, 3, 4, 5)\n",
    "print(dt5)\n",
    "print(type(dt5))"
   ]
  },
  {
   "cell_type": "markdown",
   "metadata": {},
   "source": [
    "### 6. Set"
   ]
  },
  {
   "cell_type": "code",
   "execution_count": 8,
   "metadata": {},
   "outputs": [
    {
     "name": "stdout",
     "output_type": "stream",
     "text": [
      "{1, 2, 3, 4, 5}\n",
      "<class 'set'>\n"
     ]
    }
   ],
   "source": [
    "dt6 = {1, 2, 3, 4, 5}\n",
    "print(dt6)\n",
    "print(type(dt6))"
   ]
  },
  {
   "cell_type": "markdown",
   "metadata": {},
   "source": [
    "### 7. Dictionary"
   ]
  },
  {
   "cell_type": "code",
   "execution_count": 9,
   "metadata": {},
   "outputs": [
    {
     "name": "stdout",
     "output_type": "stream",
     "text": [
      "{'name': 'Irfan', 'age': 24}\n",
      "<class 'dict'>\n"
     ]
    }
   ],
   "source": [
    "dt7 = {\"name\": \"Irfan\", \"age\": 24}\n",
    "print(dt7)\n",
    "print(type(dt7))"
   ]
  },
  {
   "cell_type": "markdown",
   "metadata": {},
   "source": [
    "### 8. Boolean"
   ]
  },
  {
   "cell_type": "code",
   "execution_count": 10,
   "metadata": {},
   "outputs": [
    {
     "name": "stdout",
     "output_type": "stream",
     "text": [
      "True\n",
      "<class 'bool'>\n"
     ]
    }
   ],
   "source": [
    "dt8 = True\n",
    "print(dt8)\n",
    "print(type(dt8))"
   ]
  }
 ],
 "metadata": {
  "kernelspec": {
   "display_name": "Python 3",
   "language": "python",
   "name": "python3"
  },
  "language_info": {
   "codemirror_mode": {
    "name": "ipython",
    "version": 3
   },
   "file_extension": ".py",
   "mimetype": "text/x-python",
   "name": "python",
   "nbconvert_exporter": "python",
   "pygments_lexer": "ipython3",
   "version": "3.12.0"
  }
 },
 "nbformat": 4,
 "nbformat_minor": 2
}
