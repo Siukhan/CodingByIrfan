{
 "cells": [
  {
   "cell_type": "markdown",
   "metadata": {},
   "source": [
    "# Docstring of Missing Value Methods\n",
    "\n",
    "## Author: Sheikh Irfan Ullah Khan\n",
    "\n",
    "### Contact Me: shirfan.math@gmail.com"
   ]
  },
  {
   "cell_type": "code",
   "execution_count": 1,
   "metadata": {},
   "outputs": [],
   "source": [
    "import pandas as pd\n",
    "import numpy as np"
   ]
  },
  {
   "cell_type": "markdown",
   "metadata": {},
   "source": [
    "#### 1. Isnull() and Notnull()"
   ]
  },
  {
   "cell_type": "code",
   "execution_count": 2,
   "metadata": {},
   "outputs": [
    {
     "name": "stdout",
     "output_type": "stream",
     "text": [
      "\u001b[1;31mSignature:\u001b[0m \u001b[0mpd\u001b[0m\u001b[1;33m.\u001b[0m\u001b[0misnull\u001b[0m\u001b[1;33m(\u001b[0m\u001b[0mobj\u001b[0m\u001b[1;33m:\u001b[0m \u001b[1;34m'object'\u001b[0m\u001b[1;33m)\u001b[0m \u001b[1;33m->\u001b[0m \u001b[1;34m'bool | npt.NDArray[np.bool_] | NDFrame'\u001b[0m\u001b[1;33m\u001b[0m\u001b[1;33m\u001b[0m\u001b[0m\n",
      "\u001b[1;31mDocstring:\u001b[0m\n",
      "Detect missing values for an array-like object.\n",
      "\n",
      "This function takes a scalar or array-like object and indicates\n",
      "whether values are missing (``NaN`` in numeric arrays, ``None`` or ``NaN``\n",
      "in object arrays, ``NaT`` in datetimelike).\n",
      "\n",
      "Parameters\n",
      "----------\n",
      "obj : scalar or array-like\n",
      "    Object to check for null or missing values.\n",
      "\n",
      "Returns\n",
      "-------\n",
      "bool or array-like of bool\n",
      "    For scalar input, returns a scalar boolean.\n",
      "    For array input, returns an array of boolean indicating whether each\n",
      "    corresponding element is missing.\n",
      "\n",
      "See Also\n",
      "--------\n",
      "notna : Boolean inverse of pandas.isna.\n",
      "Series.isna : Detect missing values in a Series.\n",
      "DataFrame.isna : Detect missing values in a DataFrame.\n",
      "Index.isna : Detect missing values in an Index.\n",
      "\n",
      "Examples\n",
      "--------\n",
      "Scalar arguments (including strings) result in a scalar boolean.\n",
      "\n",
      ">>> pd.isna('dog')\n",
      "False\n",
      "\n",
      ">>> pd.isna(pd.NA)\n",
      "True\n",
      "\n",
      ">>> pd.isna(np.nan)\n",
      "True\n",
      "\n",
      "ndarrays result in an ndarray of booleans.\n",
      "\n",
      ">>> array = np.array([[1, np.nan, 3], [4, 5, np.nan]])\n",
      ">>> array\n",
      "array([[ 1., nan,  3.],\n",
      "       [ 4.,  5., nan]])\n",
      ">>> pd.isna(array)\n",
      "array([[False,  True, False],\n",
      "       [False, False,  True]])\n",
      "\n",
      "For indexes, an ndarray of booleans is returned.\n",
      "\n",
      ">>> index = pd.DatetimeIndex([\"2017-07-05\", \"2017-07-06\", None,\n",
      "...                           \"2017-07-08\"])\n",
      ">>> index\n",
      "DatetimeIndex(['2017-07-05', '2017-07-06', 'NaT', '2017-07-08'],\n",
      "              dtype='datetime64[ns]', freq=None)\n",
      ">>> pd.isna(index)\n",
      "array([False, False,  True, False])\n",
      "\n",
      "For Series and DataFrame, the same type is returned, containing booleans.\n",
      "\n",
      ">>> df = pd.DataFrame([['ant', 'bee', 'cat'], ['dog', None, 'fly']])\n",
      ">>> df\n",
      "     0     1    2\n",
      "0  ant   bee  cat\n",
      "1  dog  None  fly\n",
      ">>> pd.isna(df)\n",
      "       0      1      2\n",
      "0  False  False  False\n",
      "1  False   True  False\n",
      "\n",
      ">>> pd.isna(df[1])\n",
      "0    False\n",
      "1     True\n",
      "Name: 1, dtype: bool\n",
      "\u001b[1;31mFile:\u001b[0m      c:\\users\\shirf\\miniconda3\\envs\\python_eda\\lib\\site-packages\\pandas\\core\\dtypes\\missing.py\n",
      "\u001b[1;31mType:\u001b[0m      function"
     ]
    }
   ],
   "source": [
    "pd.isnull?"
   ]
  },
  {
   "cell_type": "code",
   "execution_count": 3,
   "metadata": {},
   "outputs": [
    {
     "name": "stdout",
     "output_type": "stream",
     "text": [
      "\u001b[1;31mSignature:\u001b[0m \u001b[0mpd\u001b[0m\u001b[1;33m.\u001b[0m\u001b[0mnotnull\u001b[0m\u001b[1;33m(\u001b[0m\u001b[0mobj\u001b[0m\u001b[1;33m:\u001b[0m \u001b[1;34m'object'\u001b[0m\u001b[1;33m)\u001b[0m \u001b[1;33m->\u001b[0m \u001b[1;34m'bool | npt.NDArray[np.bool_] | NDFrame'\u001b[0m\u001b[1;33m\u001b[0m\u001b[1;33m\u001b[0m\u001b[0m\n",
      "\u001b[1;31mDocstring:\u001b[0m\n",
      "Detect non-missing values for an array-like object.\n",
      "\n",
      "This function takes a scalar or array-like object and indicates\n",
      "whether values are valid (not missing, which is ``NaN`` in numeric\n",
      "arrays, ``None`` or ``NaN`` in object arrays, ``NaT`` in datetimelike).\n",
      "\n",
      "Parameters\n",
      "----------\n",
      "obj : array-like or object value\n",
      "    Object to check for *not* null or *non*-missing values.\n",
      "\n",
      "Returns\n",
      "-------\n",
      "bool or array-like of bool\n",
      "    For scalar input, returns a scalar boolean.\n",
      "    For array input, returns an array of boolean indicating whether each\n",
      "    corresponding element is valid.\n",
      "\n",
      "See Also\n",
      "--------\n",
      "isna : Boolean inverse of pandas.notna.\n",
      "Series.notna : Detect valid values in a Series.\n",
      "DataFrame.notna : Detect valid values in a DataFrame.\n",
      "Index.notna : Detect valid values in an Index.\n",
      "\n",
      "Examples\n",
      "--------\n",
      "Scalar arguments (including strings) result in a scalar boolean.\n",
      "\n",
      ">>> pd.notna('dog')\n",
      "True\n",
      "\n",
      ">>> pd.notna(pd.NA)\n",
      "False\n",
      "\n",
      ">>> pd.notna(np.nan)\n",
      "False\n",
      "\n",
      "ndarrays result in an ndarray of booleans.\n",
      "\n",
      ">>> array = np.array([[1, np.nan, 3], [4, 5, np.nan]])\n",
      ">>> array\n",
      "array([[ 1., nan,  3.],\n",
      "       [ 4.,  5., nan]])\n",
      ">>> pd.notna(array)\n",
      "array([[ True, False,  True],\n",
      "       [ True,  True, False]])\n",
      "\n",
      "For indexes, an ndarray of booleans is returned.\n",
      "\n",
      ">>> index = pd.DatetimeIndex([\"2017-07-05\", \"2017-07-06\", None,\n",
      "...                          \"2017-07-08\"])\n",
      ">>> index\n",
      "DatetimeIndex(['2017-07-05', '2017-07-06', 'NaT', '2017-07-08'],\n",
      "              dtype='datetime64[ns]', freq=None)\n",
      ">>> pd.notna(index)\n",
      "array([ True,  True, False,  True])\n",
      "\n",
      "For Series and DataFrame, the same type is returned, containing booleans.\n",
      "\n",
      ">>> df = pd.DataFrame([['ant', 'bee', 'cat'], ['dog', None, 'fly']])\n",
      ">>> df\n",
      "     0     1    2\n",
      "0  ant   bee  cat\n",
      "1  dog  None  fly\n",
      ">>> pd.notna(df)\n",
      "      0      1     2\n",
      "0  True   True  True\n",
      "1  True  False  True\n",
      "\n",
      ">>> pd.notna(df[1])\n",
      "0     True\n",
      "1    False\n",
      "Name: 1, dtype: bool\n",
      "\u001b[1;31mFile:\u001b[0m      c:\\users\\shirf\\miniconda3\\envs\\python_eda\\lib\\site-packages\\pandas\\core\\dtypes\\missing.py\n",
      "\u001b[1;31mType:\u001b[0m      function"
     ]
    }
   ],
   "source": [
    "pd.notnull?"
   ]
  },
  {
   "cell_type": "markdown",
   "metadata": {},
   "source": [
    "#### 2. Fillna() and Dropna()"
   ]
  },
  {
   "cell_type": "code",
   "execution_count": 4,
   "metadata": {},
   "outputs": [
    {
     "name": "stdout",
     "output_type": "stream",
     "text": [
      "\u001b[1;31mSignature:\u001b[0m\n",
      "\u001b[0mpd\u001b[0m\u001b[1;33m.\u001b[0m\u001b[0mSeries\u001b[0m\u001b[1;33m.\u001b[0m\u001b[0mfillna\u001b[0m\u001b[1;33m(\u001b[0m\u001b[1;33m\n",
      "\u001b[0m    \u001b[0mself\u001b[0m\u001b[1;33m,\u001b[0m\u001b[1;33m\n",
      "\u001b[0m    \u001b[0mvalue\u001b[0m\u001b[1;33m:\u001b[0m \u001b[1;34m'Hashable | Mapping | Series | DataFrame | None'\u001b[0m \u001b[1;33m=\u001b[0m \u001b[1;32mNone\u001b[0m\u001b[1;33m,\u001b[0m\u001b[1;33m\n",
      "\u001b[0m    \u001b[1;33m*\u001b[0m\u001b[1;33m,\u001b[0m\u001b[1;33m\n",
      "\u001b[0m    \u001b[0mmethod\u001b[0m\u001b[1;33m:\u001b[0m \u001b[1;34m'FillnaOptions | None'\u001b[0m \u001b[1;33m=\u001b[0m \u001b[1;32mNone\u001b[0m\u001b[1;33m,\u001b[0m\u001b[1;33m\n",
      "\u001b[0m    \u001b[0maxis\u001b[0m\u001b[1;33m:\u001b[0m \u001b[1;34m'Axis | None'\u001b[0m \u001b[1;33m=\u001b[0m \u001b[1;32mNone\u001b[0m\u001b[1;33m,\u001b[0m\u001b[1;33m\n",
      "\u001b[0m    \u001b[0minplace\u001b[0m\u001b[1;33m:\u001b[0m \u001b[1;34m'bool_t'\u001b[0m \u001b[1;33m=\u001b[0m \u001b[1;32mFalse\u001b[0m\u001b[1;33m,\u001b[0m\u001b[1;33m\n",
      "\u001b[0m    \u001b[0mlimit\u001b[0m\u001b[1;33m:\u001b[0m \u001b[1;34m'int | None'\u001b[0m \u001b[1;33m=\u001b[0m \u001b[1;32mNone\u001b[0m\u001b[1;33m,\u001b[0m\u001b[1;33m\n",
      "\u001b[0m    \u001b[0mdowncast\u001b[0m\u001b[1;33m:\u001b[0m \u001b[1;34m'dict | None | lib.NoDefault'\u001b[0m \u001b[1;33m=\u001b[0m \u001b[1;33m<\u001b[0m\u001b[0mno_default\u001b[0m\u001b[1;33m>\u001b[0m\u001b[1;33m,\u001b[0m\u001b[1;33m\n",
      "\u001b[0m\u001b[1;33m)\u001b[0m \u001b[1;33m->\u001b[0m \u001b[1;34m'Self | None'\u001b[0m\u001b[1;33m\u001b[0m\u001b[1;33m\u001b[0m\u001b[0m\n",
      "\u001b[1;31mDocstring:\u001b[0m\n",
      "Fill NA/NaN values using the specified method.\n",
      "\n",
      "Parameters\n",
      "----------\n",
      "value : scalar, dict, Series, or DataFrame\n",
      "    Value to use to fill holes (e.g. 0), alternately a\n",
      "    dict/Series/DataFrame of values specifying which value to use for\n",
      "    each index (for a Series) or column (for a DataFrame).  Values not\n",
      "    in the dict/Series/DataFrame will not be filled. This value cannot\n",
      "    be a list.\n",
      "method : {'backfill', 'bfill', 'ffill', None}, default None\n",
      "    Method to use for filling holes in reindexed Series:\n",
      "\n",
      "    * ffill: propagate last valid observation forward to next valid.\n",
      "    * backfill / bfill: use next valid observation to fill gap.\n",
      "\n",
      "    .. deprecated:: 2.1.0\n",
      "        Use ffill or bfill instead.\n",
      "\n",
      "axis : {0 or 'index'} for Series, {0 or 'index', 1 or 'columns'} for DataFrame\n",
      "    Axis along which to fill missing values. For `Series`\n",
      "    this parameter is unused and defaults to 0.\n",
      "inplace : bool, default False\n",
      "    If True, fill in-place. Note: this will modify any\n",
      "    other views on this object (e.g., a no-copy slice for a column in a\n",
      "    DataFrame).\n",
      "limit : int, default None\n",
      "    If method is specified, this is the maximum number of consecutive\n",
      "    NaN values to forward/backward fill. In other words, if there is\n",
      "    a gap with more than this number of consecutive NaNs, it will only\n",
      "    be partially filled. If method is not specified, this is the\n",
      "    maximum number of entries along the entire axis where NaNs will be\n",
      "    filled. Must be greater than 0 if not None.\n",
      "downcast : dict, default is None\n",
      "    A dict of item->dtype of what to downcast if possible,\n",
      "    or the string 'infer' which will try to downcast to an appropriate\n",
      "    equal type (e.g. float64 to int64 if possible).\n",
      "\n",
      "Returns\n",
      "-------\n",
      "Series/DataFrame or None\n",
      "    Object with missing values filled or None if ``inplace=True``.\n",
      "\n",
      "See Also\n",
      "--------\n",
      "ffill : Fill values by propagating the last valid observation to next valid.\n",
      "bfill : Fill values by using the next valid observation to fill the gap.\n",
      "interpolate : Fill NaN values using interpolation.\n",
      "reindex : Conform object to new index.\n",
      "asfreq : Convert TimeSeries to specified frequency.\n",
      "\n",
      "Examples\n",
      "--------\n",
      ">>> df = pd.DataFrame([[np.nan, 2, np.nan, 0],\n",
      "...                    [3, 4, np.nan, 1],\n",
      "...                    [np.nan, np.nan, np.nan, np.nan],\n",
      "...                    [np.nan, 3, np.nan, 4]],\n",
      "...                   columns=list(\"ABCD\"))\n",
      ">>> df\n",
      "     A    B   C    D\n",
      "0  NaN  2.0 NaN  0.0\n",
      "1  3.0  4.0 NaN  1.0\n",
      "2  NaN  NaN NaN  NaN\n",
      "3  NaN  3.0 NaN  4.0\n",
      "\n",
      "Replace all NaN elements with 0s.\n",
      "\n",
      ">>> df.fillna(0)\n",
      "     A    B    C    D\n",
      "0  0.0  2.0  0.0  0.0\n",
      "1  3.0  4.0  0.0  1.0\n",
      "2  0.0  0.0  0.0  0.0\n",
      "3  0.0  3.0  0.0  4.0\n",
      "\n",
      "Replace all NaN elements in column 'A', 'B', 'C', and 'D', with 0, 1,\n",
      "2, and 3 respectively.\n",
      "\n",
      ">>> values = {\"A\": 0, \"B\": 1, \"C\": 2, \"D\": 3}\n",
      ">>> df.fillna(value=values)\n",
      "     A    B    C    D\n",
      "0  0.0  2.0  2.0  0.0\n",
      "1  3.0  4.0  2.0  1.0\n",
      "2  0.0  1.0  2.0  3.0\n",
      "3  0.0  3.0  2.0  4.0\n",
      "\n",
      "Only replace the first NaN element.\n",
      "\n",
      ">>> df.fillna(value=values, limit=1)\n",
      "     A    B    C    D\n",
      "0  0.0  2.0  2.0  0.0\n",
      "1  3.0  4.0  NaN  1.0\n",
      "2  NaN  1.0  NaN  3.0\n",
      "3  NaN  3.0  NaN  4.0\n",
      "\n",
      "When filling using a DataFrame, replacement happens along\n",
      "the same column names and same indices\n",
      "\n",
      ">>> df2 = pd.DataFrame(np.zeros((4, 4)), columns=list(\"ABCE\"))\n",
      ">>> df.fillna(df2)\n",
      "     A    B    C    D\n",
      "0  0.0  2.0  0.0  0.0\n",
      "1  3.0  4.0  0.0  1.0\n",
      "2  0.0  0.0  0.0  NaN\n",
      "3  0.0  3.0  0.0  4.0\n",
      "\n",
      "Note that column D is not affected since it is not present in df2.\n",
      "\u001b[1;31mFile:\u001b[0m      c:\\users\\shirf\\miniconda3\\envs\\python_eda\\lib\\site-packages\\pandas\\core\\generic.py\n",
      "\u001b[1;31mType:\u001b[0m      function"
     ]
    }
   ],
   "source": [
    "pd.Series.fillna?"
   ]
  },
  {
   "cell_type": "code",
   "execution_count": 5,
   "metadata": {},
   "outputs": [
    {
     "name": "stdout",
     "output_type": "stream",
     "text": [
      "\u001b[1;31mSignature:\u001b[0m\n",
      "\u001b[0mpd\u001b[0m\u001b[1;33m.\u001b[0m\u001b[0mSeries\u001b[0m\u001b[1;33m.\u001b[0m\u001b[0mdropna\u001b[0m\u001b[1;33m(\u001b[0m\u001b[1;33m\n",
      "\u001b[0m    \u001b[0mself\u001b[0m\u001b[1;33m,\u001b[0m\u001b[1;33m\n",
      "\u001b[0m    \u001b[1;33m*\u001b[0m\u001b[1;33m,\u001b[0m\u001b[1;33m\n",
      "\u001b[0m    \u001b[0maxis\u001b[0m\u001b[1;33m:\u001b[0m \u001b[1;34m'Axis'\u001b[0m \u001b[1;33m=\u001b[0m \u001b[1;36m0\u001b[0m\u001b[1;33m,\u001b[0m\u001b[1;33m\n",
      "\u001b[0m    \u001b[0minplace\u001b[0m\u001b[1;33m:\u001b[0m \u001b[1;34m'bool'\u001b[0m \u001b[1;33m=\u001b[0m \u001b[1;32mFalse\u001b[0m\u001b[1;33m,\u001b[0m\u001b[1;33m\n",
      "\u001b[0m    \u001b[0mhow\u001b[0m\u001b[1;33m:\u001b[0m \u001b[1;34m'AnyAll | None'\u001b[0m \u001b[1;33m=\u001b[0m \u001b[1;32mNone\u001b[0m\u001b[1;33m,\u001b[0m\u001b[1;33m\n",
      "\u001b[0m    \u001b[0mignore_index\u001b[0m\u001b[1;33m:\u001b[0m \u001b[1;34m'bool'\u001b[0m \u001b[1;33m=\u001b[0m \u001b[1;32mFalse\u001b[0m\u001b[1;33m,\u001b[0m\u001b[1;33m\n",
      "\u001b[0m\u001b[1;33m)\u001b[0m \u001b[1;33m->\u001b[0m \u001b[1;34m'Series | None'\u001b[0m\u001b[1;33m\u001b[0m\u001b[1;33m\u001b[0m\u001b[0m\n",
      "\u001b[1;31mDocstring:\u001b[0m\n",
      "Return a new Series with missing values removed.\n",
      "\n",
      "See the :ref:`User Guide <missing_data>` for more on which values are\n",
      "considered missing, and how to work with missing data.\n",
      "\n",
      "Parameters\n",
      "----------\n",
      "axis : {0 or 'index'}\n",
      "    Unused. Parameter needed for compatibility with DataFrame.\n",
      "inplace : bool, default False\n",
      "    If True, do operation inplace and return None.\n",
      "how : str, optional\n",
      "    Not in use. Kept for compatibility.\n",
      "ignore_index : bool, default ``False``\n",
      "    If ``True``, the resulting axis will be labeled 0, 1, …, n - 1.\n",
      "\n",
      "    .. versionadded:: 2.0.0\n",
      "\n",
      "Returns\n",
      "-------\n",
      "Series or None\n",
      "    Series with NA entries dropped from it or None if ``inplace=True``.\n",
      "\n",
      "See Also\n",
      "--------\n",
      "Series.isna: Indicate missing values.\n",
      "Series.notna : Indicate existing (non-missing) values.\n",
      "Series.fillna : Replace missing values.\n",
      "DataFrame.dropna : Drop rows or columns which contain NA values.\n",
      "Index.dropna : Drop missing indices.\n",
      "\n",
      "Examples\n",
      "--------\n",
      ">>> ser = pd.Series([1., 2., np.nan])\n",
      ">>> ser\n",
      "0    1.0\n",
      "1    2.0\n",
      "2    NaN\n",
      "dtype: float64\n",
      "\n",
      "Drop NA values from a Series.\n",
      "\n",
      ">>> ser.dropna()\n",
      "0    1.0\n",
      "1    2.0\n",
      "dtype: float64\n",
      "\n",
      "Empty strings are not considered NA values. ``None`` is considered an\n",
      "NA value.\n",
      "\n",
      ">>> ser = pd.Series([np.nan, 2, pd.NaT, '', None, 'I stay'])\n",
      ">>> ser\n",
      "0       NaN\n",
      "1         2\n",
      "2       NaT\n",
      "3\n",
      "4      None\n",
      "5    I stay\n",
      "dtype: object\n",
      ">>> ser.dropna()\n",
      "1         2\n",
      "3\n",
      "5    I stay\n",
      "dtype: object\n",
      "\u001b[1;31mFile:\u001b[0m      c:\\users\\shirf\\miniconda3\\envs\\python_eda\\lib\\site-packages\\pandas\\core\\series.py\n",
      "\u001b[1;31mType:\u001b[0m      function"
     ]
    }
   ],
   "source": [
    "pd.Series.dropna?"
   ]
  },
  {
   "cell_type": "markdown",
   "metadata": {},
   "source": [
    "#### 3. Some Examples"
   ]
  },
  {
   "cell_type": "code",
   "execution_count": 6,
   "metadata": {},
   "outputs": [
    {
     "data": {
      "text/plain": [
       "0    1.0\n",
       "1    NaN\n",
       "2    3.5\n",
       "3    NaN\n",
       "4    7.0\n",
       "dtype: float64"
      ]
     },
     "execution_count": 6,
     "metadata": {},
     "output_type": "execute_result"
    }
   ],
   "source": [
    "s = pd.Series([1, np.nan, 3.5, np.nan, 7])\n",
    "s"
   ]
  },
  {
   "cell_type": "code",
   "execution_count": 7,
   "metadata": {},
   "outputs": [
    {
     "data": {
      "text/plain": [
       "0    False\n",
       "1     True\n",
       "2    False\n",
       "3     True\n",
       "4    False\n",
       "dtype: bool"
      ]
     },
     "execution_count": 7,
     "metadata": {},
     "output_type": "execute_result"
    }
   ],
   "source": [
    "s.isnull()"
   ]
  },
  {
   "cell_type": "code",
   "execution_count": 8,
   "metadata": {},
   "outputs": [
    {
     "data": {
      "text/plain": [
       "0    NaN\n",
       "1    NaN\n",
       "2    3.5\n",
       "3    NaN\n",
       "4    7.0\n",
       "dtype: float64"
      ]
     },
     "execution_count": 8,
     "metadata": {},
     "output_type": "execute_result"
    }
   ],
   "source": [
    "s[0] = None\n",
    "s"
   ]
  },
  {
   "cell_type": "code",
   "execution_count": 9,
   "metadata": {},
   "outputs": [
    {
     "data": {
      "text/plain": [
       "0     True\n",
       "1     True\n",
       "2    False\n",
       "3     True\n",
       "4    False\n",
       "dtype: bool"
      ]
     },
     "execution_count": 9,
     "metadata": {},
     "output_type": "execute_result"
    }
   ],
   "source": [
    "s.isnull()"
   ]
  }
 ],
 "metadata": {
  "kernelspec": {
   "display_name": "python_eda",
   "language": "python",
   "name": "python3"
  },
  "language_info": {
   "codemirror_mode": {
    "name": "ipython",
    "version": 3
   },
   "file_extension": ".py",
   "mimetype": "text/x-python",
   "name": "python",
   "nbconvert_exporter": "python",
   "pygments_lexer": "ipython3",
   "version": "3.12.0"
  }
 },
 "nbformat": 4,
 "nbformat_minor": 2
}
