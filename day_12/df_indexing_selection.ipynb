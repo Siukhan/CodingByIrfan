{
 "cells": [
  {
   "cell_type": "markdown",
   "metadata": {},
   "source": [
    "# Data Indexing and Selection\n",
    "\n",
    "## Author: Sheikh Irfan Ullah Khan\n",
    "\n",
    "### Contact Me: shirfan.math@gmail.com"
   ]
  },
  {
   "cell_type": "markdown",
   "metadata": {},
   "source": [
    "### 1. Data Selection in DataFrame"
   ]
  },
  {
   "cell_type": "markdown",
   "metadata": {},
   "source": [
    "#### 1.1. DataFrame as a Dictionary"
   ]
  },
  {
   "cell_type": "code",
   "execution_count": 1,
   "metadata": {},
   "outputs": [],
   "source": [
    "# Import Library\n",
    "import pandas as pd # Data Manipulation"
   ]
  },
  {
   "cell_type": "code",
   "execution_count": 2,
   "metadata": {},
   "outputs": [],
   "source": [
    "states_capitals = {\n",
    "    \"Fedral\": \"Islamabad\",\n",
    "    \"KPK\": \"Peshawar\",\n",
    "    \"Balochistan\": \"Quetta\",\n",
    "    \"Punjab\": \"Lahore\",\n",
    "    \"Sindh\": \"Karachi\"\n",
    "}"
   ]
  },
  {
   "cell_type": "code",
   "execution_count": 3,
   "metadata": {},
   "outputs": [],
   "source": [
    "states_languages = {\n",
    "    \"Fedral\": \"Urdu\",\n",
    "    \"KPK\": \"Pashto\",\n",
    "    \"Balochistan\": \"Balochi\",\n",
    "    \"Punjab\": \"Punjabi\",\n",
    "    \"Sindh\": \"Sindhi\"\n",
    "}"
   ]
  },
  {
   "cell_type": "code",
   "execution_count": 4,
   "metadata": {},
   "outputs": [
    {
     "data": {
      "text/html": [
       "<div>\n",
       "<style scoped>\n",
       "    .dataframe tbody tr th:only-of-type {\n",
       "        vertical-align: middle;\n",
       "    }\n",
       "\n",
       "    .dataframe tbody tr th {\n",
       "        vertical-align: top;\n",
       "    }\n",
       "\n",
       "    .dataframe thead th {\n",
       "        text-align: right;\n",
       "    }\n",
       "</style>\n",
       "<table border=\"1\" class=\"dataframe\">\n",
       "  <thead>\n",
       "    <tr style=\"text-align: right;\">\n",
       "      <th></th>\n",
       "      <th>Capitals</th>\n",
       "      <th>Languages</th>\n",
       "    </tr>\n",
       "  </thead>\n",
       "  <tbody>\n",
       "    <tr>\n",
       "      <th>Fedral</th>\n",
       "      <td>Islamabad</td>\n",
       "      <td>Urdu</td>\n",
       "    </tr>\n",
       "    <tr>\n",
       "      <th>KPK</th>\n",
       "      <td>Peshawar</td>\n",
       "      <td>Pashto</td>\n",
       "    </tr>\n",
       "    <tr>\n",
       "      <th>Balochistan</th>\n",
       "      <td>Quetta</td>\n",
       "      <td>Balochi</td>\n",
       "    </tr>\n",
       "    <tr>\n",
       "      <th>Punjab</th>\n",
       "      <td>Lahore</td>\n",
       "      <td>Punjabi</td>\n",
       "    </tr>\n",
       "    <tr>\n",
       "      <th>Sindh</th>\n",
       "      <td>Karachi</td>\n",
       "      <td>Sindhi</td>\n",
       "    </tr>\n",
       "  </tbody>\n",
       "</table>\n",
       "</div>"
      ],
      "text/plain": [
       "              Capitals Languages\n",
       "Fedral       Islamabad      Urdu\n",
       "KPK           Peshawar    Pashto\n",
       "Balochistan     Quetta   Balochi\n",
       "Punjab          Lahore   Punjabi\n",
       "Sindh          Karachi    Sindhi"
      ]
     },
     "execution_count": 4,
     "metadata": {},
     "output_type": "execute_result"
    }
   ],
   "source": [
    "df = pd.DataFrame({\"Capitals\": states_capitals, \"Languages\": states_languages})\n",
    "df"
   ]
  },
  {
   "cell_type": "code",
   "execution_count": 5,
   "metadata": {},
   "outputs": [
    {
     "data": {
      "text/html": [
       "<div>\n",
       "<style scoped>\n",
       "    .dataframe tbody tr th:only-of-type {\n",
       "        vertical-align: middle;\n",
       "    }\n",
       "\n",
       "    .dataframe tbody tr th {\n",
       "        vertical-align: top;\n",
       "    }\n",
       "\n",
       "    .dataframe thead th {\n",
       "        text-align: right;\n",
       "    }\n",
       "</style>\n",
       "<table border=\"1\" class=\"dataframe\">\n",
       "  <thead>\n",
       "    <tr style=\"text-align: right;\">\n",
       "      <th></th>\n",
       "      <th>Subjects</th>\n",
       "      <th>Total Marks</th>\n",
       "      <th>Minimum Marks</th>\n",
       "      <th>Obtained Marks</th>\n",
       "    </tr>\n",
       "  </thead>\n",
       "  <tbody>\n",
       "    <tr>\n",
       "      <th>Eshaal</th>\n",
       "      <td>Mathematics</td>\n",
       "      <td>100</td>\n",
       "      <td>50</td>\n",
       "      <td>98</td>\n",
       "    </tr>\n",
       "    <tr>\n",
       "      <th>Ahmad</th>\n",
       "      <td>English</td>\n",
       "      <td>100</td>\n",
       "      <td>50</td>\n",
       "      <td>95</td>\n",
       "    </tr>\n",
       "    <tr>\n",
       "      <th>Faryal</th>\n",
       "      <td>Science</td>\n",
       "      <td>100</td>\n",
       "      <td>50</td>\n",
       "      <td>99</td>\n",
       "    </tr>\n",
       "    <tr>\n",
       "      <th>Hadi</th>\n",
       "      <td>Urdu</td>\n",
       "      <td>100</td>\n",
       "      <td>50</td>\n",
       "      <td>97</td>\n",
       "    </tr>\n",
       "    <tr>\n",
       "      <th>Hafsa</th>\n",
       "      <td>Social</td>\n",
       "      <td>100</td>\n",
       "      <td>50</td>\n",
       "      <td>90</td>\n",
       "    </tr>\n",
       "  </tbody>\n",
       "</table>\n",
       "</div>"
      ],
      "text/plain": [
       "           Subjects  Total Marks  Minimum Marks  Obtained Marks\n",
       "Eshaal  Mathematics          100             50              98\n",
       "Ahmad       English          100             50              95\n",
       "Faryal      Science          100             50              99\n",
       "Hadi           Urdu          100             50              97\n",
       "Hafsa        Social          100             50              90"
      ]
     },
     "execution_count": 5,
     "metadata": {},
     "output_type": "execute_result"
    }
   ],
   "source": [
    "# Creating a DataFrame of students with their subject marks\n",
    "std_sub = pd.Series({\"Eshaal\": \"Mathematics\", \"Ahmad\": \"English\", \"Faryal\": \"Science\", \"Hadi\": \"Urdu\", \"Hafsa\": \"Social\"})\n",
    "tot_mrks = pd.Series({\"Eshaal\": 100, \"Ahmad\": 100, \"Faryal\": 100, \"Hadi\": 100, \"Hafsa\": 100})\n",
    "min_mrks = pd.Series({\"Eshaal\": 50, \"Ahmad\": 50, \"Faryal\": 50, \"Hadi\": 50, \"Hafsa\": 50})\n",
    "obt_mrks = pd.Series({\"Eshaal\": 98, \"Ahmad\": 95, \"Faryal\": 99, \"Hadi\": 97, \"Hafsa\": 90})\n",
    "\n",
    "df1 = pd.DataFrame({\"Subjects\": std_sub, \"Total Marks\": tot_mrks, \"Minimum Marks\": min_mrks, \"Obtained Marks\": obt_mrks})\n",
    "df1"
   ]
  },
  {
   "cell_type": "markdown",
   "metadata": {},
   "source": [
    "#### 1.2. How to add new columns in DataFrame"
   ]
  },
  {
   "cell_type": "code",
   "execution_count": 6,
   "metadata": {},
   "outputs": [
    {
     "data": {
      "text/html": [
       "<div>\n",
       "<style scoped>\n",
       "    .dataframe tbody tr th:only-of-type {\n",
       "        vertical-align: middle;\n",
       "    }\n",
       "\n",
       "    .dataframe tbody tr th {\n",
       "        vertical-align: top;\n",
       "    }\n",
       "\n",
       "    .dataframe thead th {\n",
       "        text-align: right;\n",
       "    }\n",
       "</style>\n",
       "<table border=\"1\" class=\"dataframe\">\n",
       "  <thead>\n",
       "    <tr style=\"text-align: right;\">\n",
       "      <th></th>\n",
       "      <th>Subjects</th>\n",
       "      <th>Total Marks</th>\n",
       "      <th>Minimum Marks</th>\n",
       "      <th>Obtained Marks</th>\n",
       "      <th>Score</th>\n",
       "    </tr>\n",
       "  </thead>\n",
       "  <tbody>\n",
       "    <tr>\n",
       "      <th>Eshaal</th>\n",
       "      <td>Mathematics</td>\n",
       "      <td>100</td>\n",
       "      <td>50</td>\n",
       "      <td>98</td>\n",
       "      <td>98.0</td>\n",
       "    </tr>\n",
       "    <tr>\n",
       "      <th>Ahmad</th>\n",
       "      <td>English</td>\n",
       "      <td>100</td>\n",
       "      <td>50</td>\n",
       "      <td>95</td>\n",
       "      <td>95.0</td>\n",
       "    </tr>\n",
       "    <tr>\n",
       "      <th>Faryal</th>\n",
       "      <td>Science</td>\n",
       "      <td>100</td>\n",
       "      <td>50</td>\n",
       "      <td>99</td>\n",
       "      <td>99.0</td>\n",
       "    </tr>\n",
       "    <tr>\n",
       "      <th>Hadi</th>\n",
       "      <td>Urdu</td>\n",
       "      <td>100</td>\n",
       "      <td>50</td>\n",
       "      <td>97</td>\n",
       "      <td>97.0</td>\n",
       "    </tr>\n",
       "    <tr>\n",
       "      <th>Hafsa</th>\n",
       "      <td>Social</td>\n",
       "      <td>100</td>\n",
       "      <td>50</td>\n",
       "      <td>90</td>\n",
       "      <td>90.0</td>\n",
       "    </tr>\n",
       "  </tbody>\n",
       "</table>\n",
       "</div>"
      ],
      "text/plain": [
       "           Subjects  Total Marks  Minimum Marks  Obtained Marks  Score\n",
       "Eshaal  Mathematics          100             50              98   98.0\n",
       "Ahmad       English          100             50              95   95.0\n",
       "Faryal      Science          100             50              99   99.0\n",
       "Hadi           Urdu          100             50              97   97.0\n",
       "Hafsa        Social          100             50              90   90.0"
      ]
     },
     "execution_count": 6,
     "metadata": {},
     "output_type": "execute_result"
    }
   ],
   "source": [
    "# Create a new column of score in df1\n",
    "df1[\"Score\"] = (df1[\"Obtained Marks\"] / df1[\"Total Marks\"]) * 100\n",
    "df1"
   ]
  },
  {
   "cell_type": "code",
   "execution_count": 7,
   "metadata": {},
   "outputs": [
    {
     "data": {
      "text/html": [
       "<div>\n",
       "<style scoped>\n",
       "    .dataframe tbody tr th:only-of-type {\n",
       "        vertical-align: middle;\n",
       "    }\n",
       "\n",
       "    .dataframe tbody tr th {\n",
       "        vertical-align: top;\n",
       "    }\n",
       "\n",
       "    .dataframe thead th {\n",
       "        text-align: right;\n",
       "    }\n",
       "</style>\n",
       "<table border=\"1\" class=\"dataframe\">\n",
       "  <thead>\n",
       "    <tr style=\"text-align: right;\">\n",
       "      <th></th>\n",
       "      <th>Subjects</th>\n",
       "      <th>Total Marks</th>\n",
       "      <th>Minimum Marks</th>\n",
       "      <th>Obtained Marks</th>\n",
       "      <th>Score</th>\n",
       "      <th>Minimum Score</th>\n",
       "    </tr>\n",
       "  </thead>\n",
       "  <tbody>\n",
       "    <tr>\n",
       "      <th>Eshaal</th>\n",
       "      <td>Mathematics</td>\n",
       "      <td>100</td>\n",
       "      <td>50</td>\n",
       "      <td>98</td>\n",
       "      <td>98.0</td>\n",
       "      <td>50.0</td>\n",
       "    </tr>\n",
       "    <tr>\n",
       "      <th>Ahmad</th>\n",
       "      <td>English</td>\n",
       "      <td>100</td>\n",
       "      <td>50</td>\n",
       "      <td>95</td>\n",
       "      <td>95.0</td>\n",
       "      <td>50.0</td>\n",
       "    </tr>\n",
       "    <tr>\n",
       "      <th>Faryal</th>\n",
       "      <td>Science</td>\n",
       "      <td>100</td>\n",
       "      <td>50</td>\n",
       "      <td>99</td>\n",
       "      <td>99.0</td>\n",
       "      <td>50.0</td>\n",
       "    </tr>\n",
       "    <tr>\n",
       "      <th>Hadi</th>\n",
       "      <td>Urdu</td>\n",
       "      <td>100</td>\n",
       "      <td>50</td>\n",
       "      <td>97</td>\n",
       "      <td>97.0</td>\n",
       "      <td>50.0</td>\n",
       "    </tr>\n",
       "    <tr>\n",
       "      <th>Hafsa</th>\n",
       "      <td>Social</td>\n",
       "      <td>100</td>\n",
       "      <td>50</td>\n",
       "      <td>90</td>\n",
       "      <td>90.0</td>\n",
       "      <td>50.0</td>\n",
       "    </tr>\n",
       "  </tbody>\n",
       "</table>\n",
       "</div>"
      ],
      "text/plain": [
       "           Subjects  Total Marks  Minimum Marks  Obtained Marks  Score  \\\n",
       "Eshaal  Mathematics          100             50              98   98.0   \n",
       "Ahmad       English          100             50              95   95.0   \n",
       "Faryal      Science          100             50              99   99.0   \n",
       "Hadi           Urdu          100             50              97   97.0   \n",
       "Hafsa        Social          100             50              90   90.0   \n",
       "\n",
       "        Minimum Score  \n",
       "Eshaal           50.0  \n",
       "Ahmad            50.0  \n",
       "Faryal           50.0  \n",
       "Hadi             50.0  \n",
       "Hafsa            50.0  "
      ]
     },
     "execution_count": 7,
     "metadata": {},
     "output_type": "execute_result"
    }
   ],
   "source": [
    "df1['Minimum Score'] = (df1['Minimum Marks'] / df1['Total Marks']) * 100\n",
    "df1"
   ]
  },
  {
   "cell_type": "markdown",
   "metadata": {},
   "source": [
    "#### 1.3. DataFrame as Two Dimensional Array"
   ]
  },
  {
   "cell_type": "code",
   "execution_count": 8,
   "metadata": {},
   "outputs": [
    {
     "name": "stdout",
     "output_type": "stream",
     "text": [
      "           Subjects  Total Marks  Minimum Marks  Obtained Marks  Score  \\\n",
      "Eshaal  Mathematics          100             50              98   98.0   \n",
      "Ahmad       English          100             50              95   95.0   \n",
      "Faryal      Science          100             50              99   99.0   \n",
      "Hadi           Urdu          100             50              97   97.0   \n",
      "Hafsa        Social          100             50              90   90.0   \n",
      "\n",
      "        Minimum Score  \n",
      "Eshaal           50.0  \n",
      "Ahmad            50.0  \n",
      "Faryal           50.0  \n",
      "Hadi             50.0  \n",
      "Hafsa            50.0  \n"
     ]
    },
    {
     "data": {
      "text/plain": [
       "array([['Mathematics', 100, 50, 98, 98.0, 50.0],\n",
       "       ['English', 100, 50, 95, 95.0, 50.0],\n",
       "       ['Science', 100, 50, 99, 99.0, 50.0],\n",
       "       ['Urdu', 100, 50, 97, 97.0, 50.0],\n",
       "       ['Social', 100, 50, 90, 90.0, 50.0]], dtype=object)"
      ]
     },
     "execution_count": 8,
     "metadata": {},
     "output_type": "execute_result"
    }
   ],
   "source": [
    "print(df1)\n",
    "df1.values"
   ]
  },
  {
   "cell_type": "code",
   "execution_count": 9,
   "metadata": {},
   "outputs": [
    {
     "data": {
      "text/html": [
       "<div>\n",
       "<style scoped>\n",
       "    .dataframe tbody tr th:only-of-type {\n",
       "        vertical-align: middle;\n",
       "    }\n",
       "\n",
       "    .dataframe tbody tr th {\n",
       "        vertical-align: top;\n",
       "    }\n",
       "\n",
       "    .dataframe thead th {\n",
       "        text-align: right;\n",
       "    }\n",
       "</style>\n",
       "<table border=\"1\" class=\"dataframe\">\n",
       "  <thead>\n",
       "    <tr style=\"text-align: right;\">\n",
       "      <th></th>\n",
       "      <th>Eshaal</th>\n",
       "      <th>Ahmad</th>\n",
       "      <th>Faryal</th>\n",
       "      <th>Hadi</th>\n",
       "      <th>Hafsa</th>\n",
       "    </tr>\n",
       "  </thead>\n",
       "  <tbody>\n",
       "    <tr>\n",
       "      <th>Subjects</th>\n",
       "      <td>Mathematics</td>\n",
       "      <td>English</td>\n",
       "      <td>Science</td>\n",
       "      <td>Urdu</td>\n",
       "      <td>Social</td>\n",
       "    </tr>\n",
       "    <tr>\n",
       "      <th>Total Marks</th>\n",
       "      <td>100</td>\n",
       "      <td>100</td>\n",
       "      <td>100</td>\n",
       "      <td>100</td>\n",
       "      <td>100</td>\n",
       "    </tr>\n",
       "    <tr>\n",
       "      <th>Minimum Marks</th>\n",
       "      <td>50</td>\n",
       "      <td>50</td>\n",
       "      <td>50</td>\n",
       "      <td>50</td>\n",
       "      <td>50</td>\n",
       "    </tr>\n",
       "    <tr>\n",
       "      <th>Obtained Marks</th>\n",
       "      <td>98</td>\n",
       "      <td>95</td>\n",
       "      <td>99</td>\n",
       "      <td>97</td>\n",
       "      <td>90</td>\n",
       "    </tr>\n",
       "    <tr>\n",
       "      <th>Score</th>\n",
       "      <td>98.0</td>\n",
       "      <td>95.0</td>\n",
       "      <td>99.0</td>\n",
       "      <td>97.0</td>\n",
       "      <td>90.0</td>\n",
       "    </tr>\n",
       "    <tr>\n",
       "      <th>Minimum Score</th>\n",
       "      <td>50.0</td>\n",
       "      <td>50.0</td>\n",
       "      <td>50.0</td>\n",
       "      <td>50.0</td>\n",
       "      <td>50.0</td>\n",
       "    </tr>\n",
       "  </tbody>\n",
       "</table>\n",
       "</div>"
      ],
      "text/plain": [
       "                     Eshaal    Ahmad   Faryal  Hadi   Hafsa\n",
       "Subjects        Mathematics  English  Science  Urdu  Social\n",
       "Total Marks             100      100      100   100     100\n",
       "Minimum Marks            50       50       50    50      50\n",
       "Obtained Marks           98       95       99    97      90\n",
       "Score                  98.0     95.0     99.0  97.0    90.0\n",
       "Minimum Score          50.0     50.0     50.0  50.0    50.0"
      ]
     },
     "execution_count": 9,
     "metadata": {},
     "output_type": "execute_result"
    }
   ],
   "source": [
    "# How to transpose a DataFrame\n",
    "df1.T"
   ]
  },
  {
   "cell_type": "code",
   "execution_count": 10,
   "metadata": {},
   "outputs": [
    {
     "data": {
      "text/plain": [
       "array(['Mathematics', 100, 50, 98, 98.0, 50.0], dtype=object)"
      ]
     },
     "execution_count": 10,
     "metadata": {},
     "output_type": "execute_result"
    }
   ],
   "source": [
    "# Access the first row of the DataFrame\n",
    "df1.values[0]"
   ]
  },
  {
   "cell_type": "code",
   "execution_count": 11,
   "metadata": {},
   "outputs": [
    {
     "data": {
      "text/plain": [
       "array(['English', 100, 50, 95, 95.0, 50.0], dtype=object)"
      ]
     },
     "execution_count": 11,
     "metadata": {},
     "output_type": "execute_result"
    }
   ],
   "source": [
    "# Access the second row of the DataFrame\n",
    "df1.values[1]"
   ]
  },
  {
   "cell_type": "code",
   "execution_count": 12,
   "metadata": {},
   "outputs": [
    {
     "data": {
      "text/plain": [
       "Eshaal    98.0\n",
       "Ahmad     95.0\n",
       "Faryal    99.0\n",
       "Hadi      97.0\n",
       "Hafsa     90.0\n",
       "Name: Score, dtype: float64"
      ]
     },
     "execution_count": 12,
     "metadata": {},
     "output_type": "execute_result"
    }
   ],
   "source": [
    "# Access the 'Score' column\n",
    "df1['Score']"
   ]
  },
  {
   "cell_type": "code",
   "execution_count": 13,
   "metadata": {},
   "outputs": [
    {
     "data": {
      "text/plain": [
       "Eshaal    100\n",
       "Ahmad     100\n",
       "Faryal    100\n",
       "Hadi      100\n",
       "Hafsa     100\n",
       "Name: Total Marks, dtype: int64"
      ]
     },
     "execution_count": 13,
     "metadata": {},
     "output_type": "execute_result"
    }
   ],
   "source": [
    "# Access the 'Total Marks' column\n",
    "df1['Total Marks']"
   ]
  },
  {
   "cell_type": "code",
   "execution_count": 14,
   "metadata": {},
   "outputs": [
    {
     "data": {
      "text/html": [
       "<div>\n",
       "<style scoped>\n",
       "    .dataframe tbody tr th:only-of-type {\n",
       "        vertical-align: middle;\n",
       "    }\n",
       "\n",
       "    .dataframe tbody tr th {\n",
       "        vertical-align: top;\n",
       "    }\n",
       "\n",
       "    .dataframe thead th {\n",
       "        text-align: right;\n",
       "    }\n",
       "</style>\n",
       "<table border=\"1\" class=\"dataframe\">\n",
       "  <thead>\n",
       "    <tr style=\"text-align: right;\">\n",
       "      <th></th>\n",
       "      <th>Subjects</th>\n",
       "      <th>Total Marks</th>\n",
       "      <th>Minimum Marks</th>\n",
       "      <th>Obtained Marks</th>\n",
       "      <th>Score</th>\n",
       "      <th>Minimum Score</th>\n",
       "    </tr>\n",
       "  </thead>\n",
       "  <tbody>\n",
       "    <tr>\n",
       "      <th>Eshaal</th>\n",
       "      <td>Mathematics</td>\n",
       "      <td>100</td>\n",
       "      <td>50</td>\n",
       "      <td>98</td>\n",
       "      <td>98.0</td>\n",
       "      <td>50.0</td>\n",
       "    </tr>\n",
       "    <tr>\n",
       "      <th>Ahmad</th>\n",
       "      <td>English</td>\n",
       "      <td>100</td>\n",
       "      <td>50</td>\n",
       "      <td>95</td>\n",
       "      <td>95.0</td>\n",
       "      <td>50.0</td>\n",
       "    </tr>\n",
       "    <tr>\n",
       "      <th>Faryal</th>\n",
       "      <td>Science</td>\n",
       "      <td>100</td>\n",
       "      <td>50</td>\n",
       "      <td>99</td>\n",
       "      <td>99.0</td>\n",
       "      <td>50.0</td>\n",
       "    </tr>\n",
       "    <tr>\n",
       "      <th>Hadi</th>\n",
       "      <td>Urdu</td>\n",
       "      <td>100</td>\n",
       "      <td>50</td>\n",
       "      <td>97</td>\n",
       "      <td>97.0</td>\n",
       "      <td>50.0</td>\n",
       "    </tr>\n",
       "    <tr>\n",
       "      <th>Hafsa</th>\n",
       "      <td>Social</td>\n",
       "      <td>100</td>\n",
       "      <td>50</td>\n",
       "      <td>90</td>\n",
       "      <td>90.0</td>\n",
       "      <td>50.0</td>\n",
       "    </tr>\n",
       "  </tbody>\n",
       "</table>\n",
       "</div>"
      ],
      "text/plain": [
       "           Subjects  Total Marks  Minimum Marks  Obtained Marks  Score  \\\n",
       "Eshaal  Mathematics          100             50              98   98.0   \n",
       "Ahmad       English          100             50              95   95.0   \n",
       "Faryal      Science          100             50              99   99.0   \n",
       "Hadi           Urdu          100             50              97   97.0   \n",
       "Hafsa        Social          100             50              90   90.0   \n",
       "\n",
       "        Minimum Score  \n",
       "Eshaal           50.0  \n",
       "Ahmad            50.0  \n",
       "Faryal           50.0  \n",
       "Hadi             50.0  \n",
       "Hafsa            50.0  "
      ]
     },
     "execution_count": 14,
     "metadata": {},
     "output_type": "execute_result"
    }
   ],
   "source": [
    "df1"
   ]
  },
  {
   "cell_type": "code",
   "execution_count": 15,
   "metadata": {},
   "outputs": [
    {
     "data": {
      "text/html": [
       "<div>\n",
       "<style scoped>\n",
       "    .dataframe tbody tr th:only-of-type {\n",
       "        vertical-align: middle;\n",
       "    }\n",
       "\n",
       "    .dataframe tbody tr th {\n",
       "        vertical-align: top;\n",
       "    }\n",
       "\n",
       "    .dataframe thead th {\n",
       "        text-align: right;\n",
       "    }\n",
       "</style>\n",
       "<table border=\"1\" class=\"dataframe\">\n",
       "  <thead>\n",
       "    <tr style=\"text-align: right;\">\n",
       "      <th></th>\n",
       "      <th>Subjects</th>\n",
       "      <th>Total Marks</th>\n",
       "      <th>Minimum Marks</th>\n",
       "      <th>Obtained Marks</th>\n",
       "      <th>Score</th>\n",
       "      <th>Minimum Score</th>\n",
       "    </tr>\n",
       "  </thead>\n",
       "  <tbody>\n",
       "    <tr>\n",
       "      <th>Ahmad</th>\n",
       "      <td>English</td>\n",
       "      <td>100</td>\n",
       "      <td>50</td>\n",
       "      <td>95</td>\n",
       "      <td>95.0</td>\n",
       "      <td>50.0</td>\n",
       "    </tr>\n",
       "    <tr>\n",
       "      <th>Faryal</th>\n",
       "      <td>Science</td>\n",
       "      <td>100</td>\n",
       "      <td>50</td>\n",
       "      <td>99</td>\n",
       "      <td>99.0</td>\n",
       "      <td>50.0</td>\n",
       "    </tr>\n",
       "  </tbody>\n",
       "</table>\n",
       "</div>"
      ],
      "text/plain": [
       "       Subjects  Total Marks  Minimum Marks  Obtained Marks  Score  \\\n",
       "Ahmad   English          100             50              95   95.0   \n",
       "Faryal  Science          100             50              99   99.0   \n",
       "\n",
       "        Minimum Score  \n",
       "Ahmad            50.0  \n",
       "Faryal           50.0  "
      ]
     },
     "execution_count": 15,
     "metadata": {},
     "output_type": "execute_result"
    }
   ],
   "source": [
    "# Implict Slicing\n",
    "df1[1:3] "
   ]
  },
  {
   "cell_type": "code",
   "execution_count": 16,
   "metadata": {},
   "outputs": [
    {
     "data": {
      "text/html": [
       "<div>\n",
       "<style scoped>\n",
       "    .dataframe tbody tr th:only-of-type {\n",
       "        vertical-align: middle;\n",
       "    }\n",
       "\n",
       "    .dataframe tbody tr th {\n",
       "        vertical-align: top;\n",
       "    }\n",
       "\n",
       "    .dataframe thead th {\n",
       "        text-align: right;\n",
       "    }\n",
       "</style>\n",
       "<table border=\"1\" class=\"dataframe\">\n",
       "  <thead>\n",
       "    <tr style=\"text-align: right;\">\n",
       "      <th></th>\n",
       "      <th>Subjects</th>\n",
       "      <th>Total Marks</th>\n",
       "      <th>Minimum Marks</th>\n",
       "      <th>Obtained Marks</th>\n",
       "      <th>Score</th>\n",
       "      <th>Minimum Score</th>\n",
       "    </tr>\n",
       "  </thead>\n",
       "  <tbody>\n",
       "    <tr>\n",
       "      <th>Ahmad</th>\n",
       "      <td>English</td>\n",
       "      <td>100</td>\n",
       "      <td>50</td>\n",
       "      <td>95</td>\n",
       "      <td>95.0</td>\n",
       "      <td>50.0</td>\n",
       "    </tr>\n",
       "    <tr>\n",
       "      <th>Faryal</th>\n",
       "      <td>Science</td>\n",
       "      <td>100</td>\n",
       "      <td>50</td>\n",
       "      <td>99</td>\n",
       "      <td>99.0</td>\n",
       "      <td>50.0</td>\n",
       "    </tr>\n",
       "    <tr>\n",
       "      <th>Hadi</th>\n",
       "      <td>Urdu</td>\n",
       "      <td>100</td>\n",
       "      <td>50</td>\n",
       "      <td>97</td>\n",
       "      <td>97.0</td>\n",
       "      <td>50.0</td>\n",
       "    </tr>\n",
       "  </tbody>\n",
       "</table>\n",
       "</div>"
      ],
      "text/plain": [
       "       Subjects  Total Marks  Minimum Marks  Obtained Marks  Score  \\\n",
       "Ahmad   English          100             50              95   95.0   \n",
       "Faryal  Science          100             50              99   99.0   \n",
       "Hadi       Urdu          100             50              97   97.0   \n",
       "\n",
       "        Minimum Score  \n",
       "Ahmad            50.0  \n",
       "Faryal           50.0  \n",
       "Hadi             50.0  "
      ]
     },
     "execution_count": 16,
     "metadata": {},
     "output_type": "execute_result"
    }
   ],
   "source": [
    "# Explicite Slicing\n",
    "df1[\"Ahmad\":\"Hadi\"]"
   ]
  },
  {
   "cell_type": "markdown",
   "metadata": {},
   "source": [
    "#### 1.4. Access DataFrame Objects by loc, and iloc Methods"
   ]
  },
  {
   "cell_type": "code",
   "execution_count": 17,
   "metadata": {},
   "outputs": [
    {
     "name": "stdout",
     "output_type": "stream",
     "text": [
      "           Subjects  Total Marks  Minimum Marks  Obtained Marks  Score  \\\n",
      "Eshaal  Mathematics          100             50              98   98.0   \n",
      "Ahmad       English          100             50              95   95.0   \n",
      "Faryal      Science          100             50              99   99.0   \n",
      "Hadi           Urdu          100             50              97   97.0   \n",
      "Hafsa        Social          100             50              90   90.0   \n",
      "\n",
      "        Minimum Score  \n",
      "Eshaal           50.0  \n",
      "Ahmad            50.0  \n",
      "Faryal           50.0  \n",
      "Hadi             50.0  \n",
      "Hafsa            50.0  \n"
     ]
    }
   ],
   "source": [
    "print(df1)"
   ]
  },
  {
   "cell_type": "code",
   "execution_count": 18,
   "metadata": {},
   "outputs": [
    {
     "data": {
      "text/html": [
       "<div>\n",
       "<style scoped>\n",
       "    .dataframe tbody tr th:only-of-type {\n",
       "        vertical-align: middle;\n",
       "    }\n",
       "\n",
       "    .dataframe tbody tr th {\n",
       "        vertical-align: top;\n",
       "    }\n",
       "\n",
       "    .dataframe thead th {\n",
       "        text-align: right;\n",
       "    }\n",
       "</style>\n",
       "<table border=\"1\" class=\"dataframe\">\n",
       "  <thead>\n",
       "    <tr style=\"text-align: right;\">\n",
       "      <th></th>\n",
       "      <th>Subjects</th>\n",
       "      <th>Total Marks</th>\n",
       "    </tr>\n",
       "  </thead>\n",
       "  <tbody>\n",
       "    <tr>\n",
       "      <th>Eshaal</th>\n",
       "      <td>Mathematics</td>\n",
       "      <td>100</td>\n",
       "    </tr>\n",
       "    <tr>\n",
       "      <th>Ahmad</th>\n",
       "      <td>English</td>\n",
       "      <td>100</td>\n",
       "    </tr>\n",
       "    <tr>\n",
       "      <th>Faryal</th>\n",
       "      <td>Science</td>\n",
       "      <td>100</td>\n",
       "    </tr>\n",
       "  </tbody>\n",
       "</table>\n",
       "</div>"
      ],
      "text/plain": [
       "           Subjects  Total Marks\n",
       "Eshaal  Mathematics          100\n",
       "Ahmad       English          100\n",
       "Faryal      Science          100"
      ]
     },
     "execution_count": 18,
     "metadata": {},
     "output_type": "execute_result"
    }
   ],
   "source": [
    "# Access first three rows and two columns\n",
    "df1.iloc[0:3,0:2]"
   ]
  },
  {
   "cell_type": "code",
   "execution_count": 19,
   "metadata": {},
   "outputs": [
    {
     "data": {
      "text/html": [
       "<div>\n",
       "<style scoped>\n",
       "    .dataframe tbody tr th:only-of-type {\n",
       "        vertical-align: middle;\n",
       "    }\n",
       "\n",
       "    .dataframe tbody tr th {\n",
       "        vertical-align: top;\n",
       "    }\n",
       "\n",
       "    .dataframe thead th {\n",
       "        text-align: right;\n",
       "    }\n",
       "</style>\n",
       "<table border=\"1\" class=\"dataframe\">\n",
       "  <thead>\n",
       "    <tr style=\"text-align: right;\">\n",
       "      <th></th>\n",
       "      <th>Minimum Marks</th>\n",
       "      <th>Obtained Marks</th>\n",
       "      <th>Score</th>\n",
       "      <th>Minimum Score</th>\n",
       "    </tr>\n",
       "  </thead>\n",
       "  <tbody>\n",
       "    <tr>\n",
       "      <th>Faryal</th>\n",
       "      <td>50</td>\n",
       "      <td>99</td>\n",
       "      <td>99.0</td>\n",
       "      <td>50.0</td>\n",
       "    </tr>\n",
       "    <tr>\n",
       "      <th>Hadi</th>\n",
       "      <td>50</td>\n",
       "      <td>97</td>\n",
       "      <td>97.0</td>\n",
       "      <td>50.0</td>\n",
       "    </tr>\n",
       "    <tr>\n",
       "      <th>Hafsa</th>\n",
       "      <td>50</td>\n",
       "      <td>90</td>\n",
       "      <td>90.0</td>\n",
       "      <td>50.0</td>\n",
       "    </tr>\n",
       "  </tbody>\n",
       "</table>\n",
       "</div>"
      ],
      "text/plain": [
       "        Minimum Marks  Obtained Marks  Score  Minimum Score\n",
       "Faryal             50              99   99.0           50.0\n",
       "Hadi               50              97   97.0           50.0\n",
       "Hafsa              50              90   90.0           50.0"
      ]
     },
     "execution_count": 19,
     "metadata": {},
     "output_type": "execute_result"
    }
   ],
   "source": [
    "# Accessing last three rows and all columns starting from third column\n",
    "df1.iloc[2:5, 2:]"
   ]
  },
  {
   "cell_type": "code",
   "execution_count": 20,
   "metadata": {},
   "outputs": [
    {
     "name": "stdout",
     "output_type": "stream",
     "text": [
      "           Subjects  Total Marks  Minimum Marks  Obtained Marks  Score  \\\n",
      "Eshaal  Mathematics          100             50              98   98.0   \n",
      "Ahmad       English          100             50              95   95.0   \n",
      "Faryal      Science          100             50              99   99.0   \n",
      "Hadi           Urdu          100             50              97   97.0   \n",
      "Hafsa        Social          100             50              90   90.0   \n",
      "\n",
      "        Minimum Score  \n",
      "Eshaal           50.0  \n",
      "Ahmad            50.0  \n",
      "Faryal           50.0  \n",
      "Hadi             50.0  \n",
      "Hafsa            50.0  \n"
     ]
    },
    {
     "data": {
      "text/html": [
       "<div>\n",
       "<style scoped>\n",
       "    .dataframe tbody tr th:only-of-type {\n",
       "        vertical-align: middle;\n",
       "    }\n",
       "\n",
       "    .dataframe tbody tr th {\n",
       "        vertical-align: top;\n",
       "    }\n",
       "\n",
       "    .dataframe thead th {\n",
       "        text-align: right;\n",
       "    }\n",
       "</style>\n",
       "<table border=\"1\" class=\"dataframe\">\n",
       "  <thead>\n",
       "    <tr style=\"text-align: right;\">\n",
       "      <th></th>\n",
       "      <th>Subjects</th>\n",
       "      <th>Total Marks</th>\n",
       "      <th>Minimum Marks</th>\n",
       "      <th>Obtained Marks</th>\n",
       "      <th>Score</th>\n",
       "      <th>Minimum Score</th>\n",
       "    </tr>\n",
       "  </thead>\n",
       "  <tbody>\n",
       "    <tr>\n",
       "      <th>Eshaal</th>\n",
       "      <td>Mathematics</td>\n",
       "      <td>100</td>\n",
       "      <td>50</td>\n",
       "      <td>98</td>\n",
       "      <td>98.0</td>\n",
       "      <td>50.0</td>\n",
       "    </tr>\n",
       "    <tr>\n",
       "      <th>Ahmad</th>\n",
       "      <td>English</td>\n",
       "      <td>100</td>\n",
       "      <td>50</td>\n",
       "      <td>95</td>\n",
       "      <td>95.0</td>\n",
       "      <td>50.0</td>\n",
       "    </tr>\n",
       "    <tr>\n",
       "      <th>Faryal</th>\n",
       "      <td>Science</td>\n",
       "      <td>100</td>\n",
       "      <td>50</td>\n",
       "      <td>99</td>\n",
       "      <td>99.0</td>\n",
       "      <td>50.0</td>\n",
       "    </tr>\n",
       "    <tr>\n",
       "      <th>Hadi</th>\n",
       "      <td>Urdu</td>\n",
       "      <td>100</td>\n",
       "      <td>50</td>\n",
       "      <td>97</td>\n",
       "      <td>97.0</td>\n",
       "      <td>50.0</td>\n",
       "    </tr>\n",
       "    <tr>\n",
       "      <th>Hafsa</th>\n",
       "      <td>Social</td>\n",
       "      <td>100</td>\n",
       "      <td>50</td>\n",
       "      <td>90</td>\n",
       "      <td>90.0</td>\n",
       "      <td>50.0</td>\n",
       "    </tr>\n",
       "  </tbody>\n",
       "</table>\n",
       "</div>"
      ],
      "text/plain": [
       "           Subjects  Total Marks  Minimum Marks  Obtained Marks  Score  \\\n",
       "Eshaal  Mathematics          100             50              98   98.0   \n",
       "Ahmad       English          100             50              95   95.0   \n",
       "Faryal      Science          100             50              99   99.0   \n",
       "Hadi           Urdu          100             50              97   97.0   \n",
       "Hafsa        Social          100             50              90   90.0   \n",
       "\n",
       "        Minimum Score  \n",
       "Eshaal           50.0  \n",
       "Ahmad            50.0  \n",
       "Faryal           50.0  \n",
       "Hadi             50.0  \n",
       "Hafsa            50.0  "
      ]
     },
     "execution_count": 20,
     "metadata": {},
     "output_type": "execute_result"
    }
   ],
   "source": [
    "print(df1)\n",
    "df1.loc[: , :]"
   ]
  },
  {
   "cell_type": "code",
   "execution_count": 21,
   "metadata": {},
   "outputs": [
    {
     "name": "stdout",
     "output_type": "stream",
     "text": [
      "           Subjects  Total Marks  Minimum Marks  Obtained Marks  Score  \\\n",
      "Eshaal  Mathematics          100             50              98   98.0   \n",
      "Ahmad       English          100             50              95   95.0   \n",
      "Faryal      Science          100             50              99   99.0   \n",
      "Hadi           Urdu          100             50              97   97.0   \n",
      "Hafsa        Social          100             50              90   90.0   \n",
      "\n",
      "        Minimum Score  \n",
      "Eshaal           50.0  \n",
      "Ahmad            50.0  \n",
      "Faryal           50.0  \n",
      "Hadi             50.0  \n",
      "Hafsa            50.0  \n"
     ]
    },
    {
     "data": {
      "text/html": [
       "<div>\n",
       "<style scoped>\n",
       "    .dataframe tbody tr th:only-of-type {\n",
       "        vertical-align: middle;\n",
       "    }\n",
       "\n",
       "    .dataframe tbody tr th {\n",
       "        vertical-align: top;\n",
       "    }\n",
       "\n",
       "    .dataframe thead th {\n",
       "        text-align: right;\n",
       "    }\n",
       "</style>\n",
       "<table border=\"1\" class=\"dataframe\">\n",
       "  <thead>\n",
       "    <tr style=\"text-align: right;\">\n",
       "      <th></th>\n",
       "      <th>Obtained Marks</th>\n",
       "      <th>Score</th>\n",
       "      <th>Minimum Score</th>\n",
       "    </tr>\n",
       "  </thead>\n",
       "  <tbody>\n",
       "    <tr>\n",
       "      <th>Eshaal</th>\n",
       "      <td>98</td>\n",
       "      <td>98.0</td>\n",
       "      <td>50.0</td>\n",
       "    </tr>\n",
       "    <tr>\n",
       "      <th>Ahmad</th>\n",
       "      <td>95</td>\n",
       "      <td>95.0</td>\n",
       "      <td>50.0</td>\n",
       "    </tr>\n",
       "    <tr>\n",
       "      <th>Faryal</th>\n",
       "      <td>99</td>\n",
       "      <td>99.0</td>\n",
       "      <td>50.0</td>\n",
       "    </tr>\n",
       "    <tr>\n",
       "      <th>Hadi</th>\n",
       "      <td>97</td>\n",
       "      <td>97.0</td>\n",
       "      <td>50.0</td>\n",
       "    </tr>\n",
       "  </tbody>\n",
       "</table>\n",
       "</div>"
      ],
      "text/plain": [
       "        Obtained Marks  Score  Minimum Score\n",
       "Eshaal              98   98.0           50.0\n",
       "Ahmad               95   95.0           50.0\n",
       "Faryal              99   99.0           50.0\n",
       "Hadi                97   97.0           50.0"
      ]
     },
     "execution_count": 21,
     "metadata": {},
     "output_type": "execute_result"
    }
   ],
   "source": [
    "# Accessing the rows upto 4th row and columns from obtained marks to all\n",
    "print(df1)\n",
    "df1.loc[:\"Hadi\", \"Obtained Marks\":]"
   ]
  },
  {
   "cell_type": "code",
   "execution_count": 22,
   "metadata": {},
   "outputs": [
    {
     "name": "stdout",
     "output_type": "stream",
     "text": [
      "           Subjects  Total Marks  Minimum Marks  Obtained Marks  Score  \\\n",
      "Eshaal  Mathematics          100             50              98   98.0   \n",
      "Ahmad       English          100             50              95   95.0   \n",
      "Faryal      Science          100             50              99   99.0   \n",
      "Hadi           Urdu          100             50              97   97.0   \n",
      "Hafsa        Social          100             50              90   90.0   \n",
      "\n",
      "        Minimum Score  \n",
      "Eshaal           50.0  \n",
      "Ahmad            50.0  \n",
      "Faryal           50.0  \n",
      "Hadi             50.0  \n",
      "Hafsa            50.0  \n"
     ]
    },
    {
     "data": {
      "text/html": [
       "<div>\n",
       "<style scoped>\n",
       "    .dataframe tbody tr th:only-of-type {\n",
       "        vertical-align: middle;\n",
       "    }\n",
       "\n",
       "    .dataframe tbody tr th {\n",
       "        vertical-align: top;\n",
       "    }\n",
       "\n",
       "    .dataframe thead th {\n",
       "        text-align: right;\n",
       "    }\n",
       "</style>\n",
       "<table border=\"1\" class=\"dataframe\">\n",
       "  <thead>\n",
       "    <tr style=\"text-align: right;\">\n",
       "      <th></th>\n",
       "      <th>Total Marks</th>\n",
       "      <th>Minimum Marks</th>\n",
       "      <th>Obtained Marks</th>\n",
       "    </tr>\n",
       "  </thead>\n",
       "  <tbody>\n",
       "    <tr>\n",
       "      <th>Ahmad</th>\n",
       "      <td>100</td>\n",
       "      <td>50</td>\n",
       "      <td>95</td>\n",
       "    </tr>\n",
       "    <tr>\n",
       "      <th>Faryal</th>\n",
       "      <td>100</td>\n",
       "      <td>50</td>\n",
       "      <td>99</td>\n",
       "    </tr>\n",
       "    <tr>\n",
       "      <th>Hadi</th>\n",
       "      <td>100</td>\n",
       "      <td>50</td>\n",
       "      <td>97</td>\n",
       "    </tr>\n",
       "  </tbody>\n",
       "</table>\n",
       "</div>"
      ],
      "text/plain": [
       "        Total Marks  Minimum Marks  Obtained Marks\n",
       "Ahmad           100             50              95\n",
       "Faryal          100             50              99\n",
       "Hadi            100             50              97"
      ]
     },
     "execution_count": 22,
     "metadata": {},
     "output_type": "execute_result"
    }
   ],
   "source": [
    "print(df1)\n",
    "df1.loc[\"Ahmad\":\"Hadi\", \"Total Marks\": \"Obtained Marks\"]"
   ]
  }
 ],
 "metadata": {
  "kernelspec": {
   "display_name": "python_eda",
   "language": "python",
   "name": "python3"
  },
  "language_info": {
   "codemirror_mode": {
    "name": "ipython",
    "version": 3
   },
   "file_extension": ".py",
   "mimetype": "text/x-python",
   "name": "python",
   "nbconvert_exporter": "python",
   "pygments_lexer": "ipython3",
   "version": "3.12.0"
  }
 },
 "nbformat": 4,
 "nbformat_minor": 2
}
