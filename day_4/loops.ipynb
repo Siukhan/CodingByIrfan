{
 "cells": [
  {
   "cell_type": "markdown",
   "metadata": {},
   "source": [
    "# Loops in Python\n",
    "\n",
    "## Sheikh Irfan Ullah Khan\n",
    "\n",
    "### Contact Me: shirfan.math@gmail.com"
   ]
  },
  {
   "cell_type": "markdown",
   "metadata": {},
   "source": [
    "### 1. Write a program to print multiplication table of a given number using for loop"
   ]
  },
  {
   "cell_type": "code",
   "execution_count": 3,
   "metadata": {},
   "outputs": [
    {
     "name": "stdout",
     "output_type": "stream",
     "text": [
      "5 × 1 = 5\n",
      "5 × 2 = 10\n",
      "5 × 3 = 15\n",
      "5 × 4 = 20\n",
      "5 × 5 = 25\n",
      "5 × 6 = 30\n",
      "5 × 7 = 35\n",
      "5 × 8 = 40\n",
      "5 × 9 = 45\n",
      "5 × 10 = 50\n",
      "5 × 11 = 55\n",
      "5 × 12 = 60\n"
     ]
    }
   ],
   "source": [
    "num = int(input(\"Enter a number: \"))\n",
    "for i in range(1, 13):\n",
    "    print(f\"{num} × {i} = {num * i}\")\n",
    "    i += 1"
   ]
  },
  {
   "cell_type": "markdown",
   "metadata": {},
   "source": [
    "### 2. Write a program to calulate LCM and HCF of two numbers using while loop"
   ]
  },
  {
   "cell_type": "code",
   "execution_count": 2,
   "metadata": {},
   "outputs": [
    {
     "name": "stdout",
     "output_type": "stream",
     "text": [
      "LCM of 5 and 3 is 15\n"
     ]
    }
   ],
   "source": [
    "max = int(input(\"Enter first number: \"))\n",
    "min = int(input(\"Enter second number: \"))\n",
    "\n",
    "lcm = max\n",
    "while lcm % min != 0:\n",
    "    lcm += max\n",
    "print(f\"LCM of {max} and {min} is {lcm}\")"
   ]
  },
  {
   "cell_type": "code",
   "execution_count": 2,
   "metadata": {},
   "outputs": [
    {
     "name": "stdout",
     "output_type": "stream",
     "text": [
      "You typed: Mangoes are sweet\n",
      "You typed: Bananas are expansive\n",
      "You typed: Your programing skills are good\n",
      "Loop exited because you typed 'quit'\n"
     ]
    }
   ],
   "source": [
    "user_input = input(\"Enter an English sentence or type 'quit' to exit: \")\n",
    "while user_input.lower() != 'quit':\n",
    "    print(f\"You typed: {user_input}\")\n",
    "    user_input = input(\"Enter another English sentence or type 'quit' to exit: \")\n",
    "\n",
    "print(\"Loop exited because you typed 'quit'\")"
   ]
  }
 ],
 "metadata": {
  "kernelspec": {
   "display_name": "python_eda",
   "language": "python",
   "name": "python3"
  },
  "language_info": {
   "codemirror_mode": {
    "name": "ipython",
    "version": 3
   },
   "file_extension": ".py",
   "mimetype": "text/x-python",
   "name": "python",
   "nbconvert_exporter": "python",
   "pygments_lexer": "ipython3",
   "version": "3.12.0"
  }
 },
 "nbformat": 4,
 "nbformat_minor": 2
}
