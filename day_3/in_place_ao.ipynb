{
 "cells": [
  {
   "cell_type": "markdown",
   "metadata": {},
   "source": [
    "# In_Place Arithmetic Operations\n",
    "\n",
    "## Author: Sheikh Irfan Ullah Khan\n",
    "### Contact Me: shirfan.math@gmail.com"
   ]
  },
  {
   "cell_type": "markdown",
   "metadata": {},
   "source": [
    "The expression `a += b` is equivalent to `a = a + b` in Python is shorthand notation for incrementing the value of the variable `a` by `b`.\n",
    "\n",
    "This kind of operation is called \"in-place addition\" or \"augmented assignment\"."
   ]
  },
  {
   "cell_type": "markdown",
   "metadata": {},
   "source": [
    "### In_place Addition"
   ]
  },
  {
   "cell_type": "code",
   "execution_count": 2,
   "metadata": {},
   "outputs": [
    {
     "name": "stdout",
     "output_type": "stream",
     "text": [
      "9\n"
     ]
    }
   ],
   "source": [
    "i = 5\n",
    "i = i + 2\n",
    "# Output 7\n",
    "i += 2\n",
    "# Output 9\n",
    "print(i)"
   ]
  },
  {
   "cell_type": "markdown",
   "metadata": {},
   "source": [
    "### In_place Subtraction"
   ]
  },
  {
   "cell_type": "code",
   "execution_count": 3,
   "metadata": {},
   "outputs": [
    {
     "name": "stdout",
     "output_type": "stream",
     "text": [
      "1\n"
     ]
    }
   ],
   "source": [
    "i = 5\n",
    "i = i - 2\n",
    "# Output 3\n",
    "i -= 2\n",
    "# Output 1\n",
    "print(i)"
   ]
  },
  {
   "cell_type": "markdown",
   "metadata": {},
   "source": [
    "### In_place Multiplication"
   ]
  },
  {
   "cell_type": "code",
   "execution_count": 4,
   "metadata": {},
   "outputs": [
    {
     "name": "stdout",
     "output_type": "stream",
     "text": [
      "20\n"
     ]
    }
   ],
   "source": [
    "i = 5\n",
    "i = i * 2\n",
    "# Output 10\n",
    "i *= 2\n",
    "# Output 20\n",
    "print(i)"
   ]
  },
  {
   "cell_type": "markdown",
   "metadata": {},
   "source": [
    "### In_place Division"
   ]
  },
  {
   "cell_type": "code",
   "execution_count": 5,
   "metadata": {},
   "outputs": [
    {
     "name": "stdout",
     "output_type": "stream",
     "text": [
      "1.25\n"
     ]
    }
   ],
   "source": [
    "i = 5\n",
    "i = i / 2\n",
    "# Output 2.5\n",
    "i /= 2\n",
    "# Output 1.25\n",
    "print(i)"
   ]
  },
  {
   "cell_type": "markdown",
   "metadata": {},
   "source": [
    "### In_place Floor Division"
   ]
  },
  {
   "cell_type": "code",
   "execution_count": 8,
   "metadata": {},
   "outputs": [
    {
     "name": "stdout",
     "output_type": "stream",
     "text": [
      "1\n"
     ]
    }
   ],
   "source": [
    "i = 5\n",
    "i = i // 2\n",
    "# Output 2\n",
    "i //= 2\n",
    "# Output 1\n",
    "print(i)"
   ]
  },
  {
   "cell_type": "markdown",
   "metadata": {},
   "source": [
    "### In_place Modulus"
   ]
  },
  {
   "cell_type": "code",
   "execution_count": 9,
   "metadata": {},
   "outputs": [
    {
     "name": "stdout",
     "output_type": "stream",
     "text": [
      "1\n"
     ]
    }
   ],
   "source": [
    "i = 5\n",
    "i = i % 2\n",
    "# Output 1\n",
    "i %= 2\n",
    "# Output 1\n",
    "print(i)"
   ]
  },
  {
   "cell_type": "markdown",
   "metadata": {},
   "source": [
    "### In_place Exponent"
   ]
  },
  {
   "cell_type": "code",
   "execution_count": 10,
   "metadata": {},
   "outputs": [
    {
     "name": "stdout",
     "output_type": "stream",
     "text": [
      "625\n"
     ]
    }
   ],
   "source": [
    "i = 5\n",
    "i = i ** 2\n",
    "# Output 25\n",
    "i **= 2\n",
    "# Output 625\n",
    "print(i)"
   ]
  },
  {
   "cell_type": "markdown",
   "metadata": {},
   "source": [
    "## Practical Use of In_Place Arithmetic Operations using While Loop"
   ]
  },
  {
   "cell_type": "code",
   "execution_count": 20,
   "metadata": {},
   "outputs": [
    {
     "name": "stdout",
     "output_type": "stream",
     "text": [
      "20 × 1 = 20\n",
      "20 × 2 = 40\n",
      "20 × 3 = 60\n",
      "20 × 4 = 80\n",
      "20 × 5 = 100\n",
      "20 × 6 = 120\n",
      "20 × 7 = 140\n",
      "20 × 8 = 160\n",
      "20 × 9 = 180\n",
      "20 × 10 = 200\n",
      "20 × 11 = 220\n",
      "20 × 12 = 240\n",
      "20 × 13 = 260\n",
      "20 × 14 = 280\n",
      "20 × 15 = 300\n",
      "20 × 16 = 320\n",
      "20 × 17 = 340\n",
      "20 × 18 = 360\n",
      "20 × 19 = 380\n",
      "20 × 20 = 400\n"
     ]
    }
   ],
   "source": [
    "num = int(input(\"Enter a number: \"))\n",
    "i = 1\n",
    "while i <= 20:\n",
    "    # print(num, \"×\", i, \"=\", num * i)\n",
    "    print(f\"{num} × {i} = {num * i}\")\n",
    "    i += 1"
   ]
  }
 ],
 "metadata": {
  "kernelspec": {
   "display_name": "python_eda",
   "language": "python",
   "name": "python3"
  },
  "language_info": {
   "codemirror_mode": {
    "name": "ipython",
    "version": 3
   },
   "file_extension": ".py",
   "mimetype": "text/x-python",
   "name": "python",
   "nbconvert_exporter": "python",
   "pygments_lexer": "ipython3",
   "version": "3.12.0"
  }
 },
 "nbformat": 4,
 "nbformat_minor": 2
}
