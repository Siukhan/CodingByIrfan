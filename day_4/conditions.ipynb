{
 "cells": [
  {
   "cell_type": "markdown",
   "metadata": {},
   "source": [
    "# Conditions and Comparison Operators in Python\n",
    "\n",
    "## Sheikh Irfan Ullah Khan\n",
    "\n",
    "### Contact Me: shirfan.math@gmail.com"
   ]
  },
  {
   "cell_type": "markdown",
   "metadata": {},
   "source": [
    "### 1. Simple Comparison Operator"
   ]
  },
  {
   "cell_type": "code",
   "execution_count": 1,
   "metadata": {},
   "outputs": [
    {
     "name": "stdout",
     "output_type": "stream",
     "text": [
      "You passed\n"
     ]
    }
   ],
   "source": [
    "marks = int(input('Enter your marks: '))\n",
    "if marks > 0 and marks <= 30:\n",
    "    print('You failed')\n",
    "else:\n",
    "    print(\"You passed\")"
   ]
  },
  {
   "cell_type": "markdown",
   "metadata": {},
   "source": [
    "### 2. Complex Comparison Operator"
   ]
  },
  {
   "cell_type": "code",
   "execution_count": 2,
   "metadata": {},
   "outputs": [
    {
     "name": "stdout",
     "output_type": "stream",
     "text": [
      "Your grade is 'A+'\n"
     ]
    }
   ],
   "source": [
    "marks = int(input('Enter your marks: '))\n",
    "if marks > 0 and marks <= 30:\n",
    "    print('You failed')\n",
    "elif marks > 30 and marks <= 40:\n",
    "    print(\"Your grade is 'E'\")\n",
    "elif marks > 40 and marks <= 50:\n",
    "    print(\"Your grade is 'D'\")\n",
    "elif marks > 50 and marks <= 60:\n",
    "    print(\"Your grade is 'C'\")\n",
    "elif marks > 60 and marks <= 70:\n",
    "    print(\"Your grade is 'B'\")\n",
    "elif marks > 70 and marks <= 85:\n",
    "    print(\"Your grade is 'A'\")\n",
    "elif marks > 85 and marks <= 100:\n",
    "    print(\"Your grade is 'A+'\")\n",
    "else:\n",
    "    print(\"Invalid number or character entered\")"
   ]
  },
  {
   "cell_type": "markdown",
   "metadata": {},
   "source": [
    "### 3. Check the capital of Pakistan"
   ]
  },
  {
   "cell_type": "code",
   "execution_count": 3,
   "metadata": {},
   "outputs": [
    {
     "name": "stdout",
     "output_type": "stream",
     "text": [
      "Your answer is correct\n"
     ]
    }
   ],
   "source": [
    "answer = input('What is the capital of Pakistan? ')\n",
    "if answer.lower() != 'islamabad':\n",
    "    print('Your answer is incorrect')\n",
    "else:\n",
    "    print('Your answer is correct')"
   ]
  },
  {
   "cell_type": "markdown",
   "metadata": {},
   "source": [
    "### 4. Ternary Operator\n",
    "\n",
    "1. The condition is evaluated. If it is true, the value of expression1 is returned. Otherwise, the value of expression2 is returned.\n",
    "2. The expressions expression1 and expression2 can be any valid expressions, including literals, variables, or function calls."
   ]
  },
  {
   "cell_type": "code",
   "execution_count": 4,
   "metadata": {},
   "outputs": [
    {
     "name": "stdout",
     "output_type": "stream",
     "text": [
      "True\n"
     ]
    }
   ],
   "source": [
    "a = 4\n",
    "if a == 4:\n",
    "    print('True')\n",
    "else:\n",
    "    print('False')"
   ]
  }
 ],
 "metadata": {
  "kernelspec": {
   "display_name": "python_eda",
   "language": "python",
   "name": "python3"
  },
  "language_info": {
   "codemirror_mode": {
    "name": "ipython",
    "version": 3
   },
   "file_extension": ".py",
   "mimetype": "text/x-python",
   "name": "python",
   "nbconvert_exporter": "python",
   "pygments_lexer": "ipython3",
   "version": "3.12.0"
  }
 },
 "nbformat": 4,
 "nbformat_minor": 2
}
